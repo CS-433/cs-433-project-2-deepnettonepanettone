{
 "cells": [
  {
   "cell_type": "code",
   "execution_count": 21,
   "metadata": {},
   "outputs": [],
   "source": [
    "from sound_processing import *\n",
    "\n",
    "# dependency on librosa !! pip install librosa\n"
   ]
  },
  {
   "cell_type": "code",
   "execution_count": null,
   "metadata": {
    "scrolled": false
   },
   "outputs": [],
   "source": [
    "features, diseases, positions, controls, frequences, patientnbs = get_feature_and_labels( '../data/test/*/*/*'  ) # both control and case\n",
    "\n",
    "indx = 2 # example on sample nb100\n",
    "\n",
    "print(features[indx] ,diseases[indx] , positions[indx] , controls[indx] , frequences[indx] , patientnbs[indx])\n",
    "\n"
   ]
  },
  {
   "cell_type": "code",
   "execution_count": null,
   "metadata": {},
   "outputs": [],
   "source": [
    "print(min(frequences),max(frequences))"
   ]
  },
  {
   "cell_type": "code",
   "execution_count": null,
   "metadata": {},
   "outputs": [],
   "source": [
    "for sample in features[indx]:\n",
    "    mfcc = features_extraction(sample,22050,'mfcc')\n",
    "    mfcc = normalize(mfcc, 'minmax')\n",
    "    print(mfcc.shape)"
   ]
  },
  {
   "cell_type": "code",
   "execution_count": null,
   "metadata": {},
   "outputs": [],
   "source": [
    "for sample in features[indx]:\n",
    "    display_all(sample,22050)"
   ]
  },
  {
   "cell_type": "code",
   "execution_count": null,
   "metadata": {},
   "outputs": [],
   "source": []
  },
  {
   "cell_type": "code",
   "execution_count": null,
   "metadata": {},
   "outputs": [],
   "source": []
  }
 ],
 "metadata": {
  "kernelspec": {
   "display_name": "Python 3",
   "language": "python",
   "name": "python3"
  },
  "language_info": {
   "codemirror_mode": {
    "name": "ipython",
    "version": 3
   },
   "file_extension": ".py",
   "mimetype": "text/x-python",
   "name": "python",
   "nbconvert_exporter": "python",
   "pygments_lexer": "ipython3",
   "version": "3.7.9"
  }
 },
 "nbformat": 4,
 "nbformat_minor": 4
}
