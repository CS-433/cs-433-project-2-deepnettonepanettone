{
  "nbformat": 4,
  "nbformat_minor": 0,
  "metadata": {
    "colab": {
      "name": "first_model_1position.ipynb",
      "provenance": [],
      "collapsed_sections": []
    },
    "kernelspec": {
      "name": "python3",
      "display_name": "Python 3"
    },
    "accelerator": "GPU"
  },
  "cells": [
    {
      "cell_type": "code",
      "metadata": {
        "colab": {
          "base_uri": "https://localhost:8080/"
        },
        "id": "Sqff39csKTz8",
        "outputId": "3a5ebd7b-ee76-48e3-ffcb-4cda3e486d0d"
      },
      "source": [
        "from google.colab import drive\n",
        "drive.mount('/content/gdrive')"
      ],
      "execution_count": 1,
      "outputs": [
        {
          "output_type": "stream",
          "text": [
            "Mounted at /content/gdrive\n"
          ],
          "name": "stdout"
        }
      ]
    },
    {
      "cell_type": "code",
      "metadata": {
        "colab": {
          "base_uri": "https://localhost:8080/"
        },
        "id": "Iu_Nli0zP4Vo",
        "outputId": "285191a2-8c61-4944-9640-dd5cfd964d84"
      },
      "source": [
        "%cd gdrive/My Drive/test_colab/ml_project2/src"
      ],
      "execution_count": 2,
      "outputs": [
        {
          "output_type": "stream",
          "text": [
            "/content/gdrive/My Drive/test_colab/ml_project2/src\n"
          ],
          "name": "stdout"
        }
      ]
    },
    {
      "cell_type": "code",
      "metadata": {
        "colab": {
          "base_uri": "https://localhost:8080/"
        },
        "id": "3RVRANMpTiI1",
        "outputId": "f42740ca-d078-4132-efc1-a97383cc2a6f"
      },
      "source": [
        "! git pull"
      ],
      "execution_count": 3,
      "outputs": [
        {
          "output_type": "stream",
          "text": [
            "Already up to date.\n"
          ],
          "name": "stdout"
        }
      ]
    },
    {
      "cell_type": "code",
      "metadata": {
        "colab": {
          "base_uri": "https://localhost:8080/"
        },
        "id": "LyL8esgypkc1",
        "outputId": "323ed59c-fa8c-4155-85f5-d5c0cfe855ad"
      },
      "source": [
        "!ls ../data"
      ],
      "execution_count": 4,
      "outputs": [
        {
          "output_type": "stream",
          "text": [
            "test  train\n"
          ],
          "name": "stdout"
        }
      ]
    },
    {
      "cell_type": "code",
      "metadata": {
        "id": "_ZVtLegFUM4j"
      },
      "source": [
        "import sound_processing as sp"
      ],
      "execution_count": 5,
      "outputs": []
    },
    {
      "cell_type": "code",
      "metadata": {
        "id": "zGAlCPjfWOac"
      },
      "source": [
        "import numpy as np\n",
        "from scipy import signal\n",
        "from scipy.io import wavfile\n",
        "import matplotlib.pyplot as plt\n",
        "import glob"
      ],
      "execution_count": 6,
      "outputs": []
    },
    {
      "cell_type": "code",
      "metadata": {
        "id": "Ty9kS-NcWjsc"
      },
      "source": [
        "#sample_rate, samples = wavfile.read('../data/Pn_GVA_Cases/Pn_GVA_Ca10/audio/Pn_GVA_Ca10_P1.wav')\n",
        "#sp.show_spec_from_sample(samples , sample_rate)"
      ],
      "execution_count": 7,
      "outputs": []
    },
    {
      "cell_type": "code",
      "metadata": {
        "colab": {
          "base_uri": "https://localhost:8080/",
          "height": 629
        },
        "id": "f5xiEH9kKeUO",
        "outputId": "0fb840cf-b941-4db0-8845-9771f50d52a5"
      },
      "source": [
        "features, diseases, positions, controls, frequences, patientnbs = sp.get_feature_and_labels( '../data/train/*/*/*/'  ) # both control and case\n",
        "\n",
        "indx = 100 # example on sample nb100\n",
        "\n",
        "print(features[indx] ,diseases[indx] , positions[indx] , controls[indx] , frequences[indx] , patientnbs[indx])\n",
        "\n",
        "for sample in features[indx]:\n",
        "    sp.show_spec_from_sample(sample , frequences[indx])"
      ],
      "execution_count": 8,
      "outputs": [
        {
          "output_type": "stream",
          "text": [
            "100%|██████████| 532/532 [10:26<00:00,  1.18s/it]\n"
          ],
          "name": "stderr"
        },
        {
          "output_type": "stream",
          "text": [
            "[[ 0.00766028  0.00840258  0.00873331 ... -0.00172121 -0.00160556\n",
            "  -0.00148958]\n",
            " [ 0.01916664  0.01933206  0.01948978 ...  0.00051267  0.00034104\n",
            "   0.0001843 ]] Pn P6 Ca 22050 29\n"
          ],
          "name": "stdout"
        },
        {
          "output_type": "display_data",
          "data": {
            "image/png": "[encoded data removed]",
            "text/plain": [
              "<Figure size 432x288 with 1 Axes>"
            ]
          },
          "metadata": {
            "tags": [],
            "needs_background": "light"
          }
        },
        {
          "output_type": "display_data",
          "data": {
            "image/png": "[encoded data removed]",
            "text/plain": [
              "<Figure size 432x288 with 1 Axes>"
            ]
          },
          "metadata": {
            "tags": [],
            "needs_background": "light"
          }
        }
      ]
    },
    {
      "cell_type": "code",
      "metadata": {
        "id": "REgMIIXrP1_R",
        "colab": {
          "base_uri": "https://localhost:8080/",
          "height": 1000
        },
        "outputId": "adf81e64-9217-4ad4-e58e-345b423f7e77"
      },
      "source": [
        "featuresT, diseasesT, positionsT, controlsT, frequencesT, patientnbsT = sp.get_feature_and_labels( '../data/test/*/*/*/'  ) # both control and case\n",
        "\n",
        "indx = 2 # example on sample nb100\n",
        "\n",
        "print(featuresT[indx] ,diseasesT[indx] , positionsT[indx] , controlsT[indx] , frequencesT[indx] , patientnbsT[indx])\n",
        "\n",
        "for sample in featuresT[indx]:\n",
        "    sp.show_spec_from_sample(sample , frequencesT[indx])"
      ],
      "execution_count": 9,
      "outputs": [
        {
          "output_type": "stream",
          "text": [
            "100%|██████████| 70/70 [01:46<00:00,  1.53s/it]\n"
          ],
          "name": "stderr"
        },
        {
          "output_type": "stream",
          "text": [
            "[[ 5.9706962e-04  6.7813793e-04  7.3362316e-04 ...  1.4544959e-03\n",
            "   1.4135670e-03  1.3664027e-03]\n",
            " [ 4.5743445e-03  4.5443438e-03  4.5135305e-03 ...  6.3816099e-03\n",
            "   6.5101506e-03  6.6417879e-03]\n",
            " [ 1.0954206e-02  1.1060468e-02  1.1153707e-02 ... -2.0139068e-04\n",
            "  -1.3030520e-04 -6.7431603e-05]\n",
            " [-1.6394678e-03 -1.6848879e-03 -1.7421885e-03 ... -2.8045769e-03\n",
            "  -2.7617300e-03 -2.7151031e-03]] Pn P3 Ca 22050 30\n"
          ],
          "name": "stdout"
        },
        {
          "output_type": "display_data",
          "data": {
            "image/png": "[encoded data removed]",
            "text/plain": [
              "<Figure size 432x288 with 1 Axes>"
            ]
          },
          "metadata": {
            "tags": [],
            "needs_background": "light"
          }
        },
        {
          "output_type": "display_data",
          "data": {
            "image/png": "[encoded data removed]",
            "text/plain": [
              "<Figure size 432x288 with 1 Axes>"
            ]
          },
          "metadata": {
            "tags": [],
            "needs_background": "light"
          }
        },
        {
          "output_type": "display_data",
          "data": {
            "image/png": "[encoded data removed]",
            "text/plain": [
              "<Figure size 432x288 with 1 Axes>"
            ]
          },
          "metadata": {
            "tags": [],
            "needs_background": "light"
          }
        },
        {
          "output_type": "display_data",
          "data": {
            "image/png": "[encoded data removed]",
            "text/plain": [
              "<Figure size 432x288 with 1 Axes>"
            ]
          },
          "metadata": {
            "tags": [],
            "needs_background": "light"
          }
        }
      ]
    },
    {
      "cell_type": "code",
      "metadata": {
        "id": "9u0RLb5OrSkg"
      },
      "source": [
        "import keras\n",
        "from keras.models import Sequential\n",
        "from keras.layers import Dense, Convolution2D, Flatten, MaxPooling2D, ZeroPadding2D, Dropout, BatchNormalization, Activation\n",
        "from keras import optimizers\n",
        "from keras.utils import to_categorical\n",
        "from keras.preprocessing.image import ImageDataGenerator\n",
        "from keras.models import load_model\n",
        "from keras.callbacks import ModelCheckpoint, CSVLogger, RemoteMonitor, TensorBoard, ReduceLROnPlateau\n",
        "from tensorboardcolab import TensorBoardColab, TensorBoardColabCallback"
      ],
      "execution_count": 10,
      "outputs": []
    },
    {
      "cell_type": "code",
      "metadata": {
        "colab": {
          "base_uri": "https://localhost:8080/"
        },
        "id": "eTkuavWDsQvJ",
        "outputId": "65f60392-e261-475f-c268-009f7f180be1"
      },
      "source": [
        "position = 'P8'\n",
        "\n",
        "indx = positions == position\n",
        "\n",
        "y_train = (controls[indx] == 'Ca')\n",
        "x_train = features[indx]\n",
        "\n",
        "y_train_big = []\n",
        "x_train_big = []\n",
        "\n",
        "for i, j in zip(x_train, y_train):\n",
        "  for subsample in i:\n",
        "    y_train_big.append(j )\n",
        "    x_train_big.append(subsample )\n",
        "\n",
        "y_train = np.array(y_train_big)\n",
        "x_train = np.array(x_train_big)\n",
        "\n",
        "print(y_train.shape ,x_train.shape )"
      ],
      "execution_count": 55,
      "outputs": [
        {
          "output_type": "stream",
          "text": [
            "(815,) (815, 110250)\n"
          ],
          "name": "stdout"
        }
      ]
    },
    {
      "cell_type": "code",
      "metadata": {
        "colab": {
          "base_uri": "https://localhost:8080/"
        },
        "id": "ncZ0_LvPwZS5",
        "outputId": "78da9af3-571d-4bf4-d0fe-b29e872acbd3"
      },
      "source": [
        "indx = positionsT == position\n",
        "\n",
        "y_test = (controlsT[indx] == 'Ca')\n",
        "x_test = featuresT[indx]\n",
        "\n",
        "y_test_big = []\n",
        "x_test_big = []\n",
        "\n",
        "for i, j in zip(x_test, y_test):\n",
        "  for subsample in i:\n",
        "    y_test_big.append(j )\n",
        "    x_test_big.append(subsample )\n",
        "\n",
        "y_test = np.array(y_test_big)\n",
        "x_test = np.array(x_test_big)\n",
        "\n",
        "print(y_test.shape ,x_test.shape )\n",
        "print(y_train.shape)\n",
        "print(y_train.sum())"
      ],
      "execution_count": 56,
      "outputs": [
        {
          "output_type": "stream",
          "text": [
            "(153,) (153, 110250)\n",
            "(815,)\n",
            "452\n"
          ],
          "name": "stdout"
        }
      ]
    },
    {
      "cell_type": "code",
      "metadata": {
        "colab": {
          "base_uri": "https://localhost:8080/"
        },
        "id": "tNYJwPxHw3qo",
        "outputId": "18743aeb-0b1e-4372-fcb9-1062005cb355"
      },
      "source": [
        "x_train_final = []\n",
        "x_test_final = []\n",
        "\n",
        "for sample in x_train:\n",
        "  x_train_final.append(sp.features_extraction(sample,22050,'stft'))\n",
        "\n",
        "for sample in x_test:\n",
        "  x_test_final.append(sp.features_extraction(sample,22050,'stft'))  \n",
        "\n",
        "x_train_final = np.array(x_train_final)[:,:,:,np.newaxis]\n",
        "x_test_final = np.array(x_test_final)[:,:,:,np.newaxis]\n",
        "\n",
        "print(x_train_final.shape,x_test_final.shape)\n",
        "print(y_train.shape)\n"
      ],
      "execution_count": 57,
      "outputs": [
        {
          "output_type": "stream",
          "text": [
            "(815, 150, 216, 1) (153, 150, 216, 1)\n",
            "(815,)\n"
          ],
          "name": "stdout"
        }
      ]
    },
    {
      "cell_type": "code",
      "metadata": {
        "colab": {
          "base_uri": "https://localhost:8080/"
        },
        "id": "XumWmzY0yBoY",
        "outputId": "b2209ff2-3ee3-4a49-800c-a96e12a53dce"
      },
      "source": [
        "#copy\n",
        "\n",
        "XTr = x_train_final.copy()\n",
        "XTe = x_test_final.copy()\n",
        "YTr = y_train.astype(int).copy()\n",
        "YTe = y_test.astype(int).copy()\n",
        "\n",
        "print(XTe.shape,XTr.shape)\n",
        "print(YTe.shape,YTr.shape)\n"
      ],
      "execution_count": 58,
      "outputs": [
        {
          "output_type": "stream",
          "text": [
            "(153, 150, 216, 1) (815, 150, 216, 1)\n",
            "(153,) (815,)\n"
          ],
          "name": "stdout"
        }
      ]
    },
    {
      "cell_type": "code",
      "metadata": {
        "colab": {
          "base_uri": "https://localhost:8080/"
        },
        "id": "_SpAlGTNsFqI",
        "outputId": "94e224bd-2110-4d99-ed30-bdfa6707a7c8"
      },
      "source": [
        "y_train = to_categorical(YTr)\n",
        "y_test = to_categorical(YTe)\n",
        "\n",
        "print(y_train,y_train.shape)"
      ],
      "execution_count": 59,
      "outputs": [
        {
          "output_type": "stream",
          "text": [
            "[[0. 1.]\n",
            " [0. 1.]\n",
            " [0. 1.]\n",
            " ...\n",
            " [1. 0.]\n",
            " [1. 0.]\n",
            " [1. 0.]] (815, 2)\n"
          ],
          "name": "stdout"
        }
      ]
    },
    {
      "cell_type": "code",
      "metadata": {
        "id": "XwfbAOZ41zCd"
      },
      "source": [
        "shuffle_indices = np.random.permutation(np.arange(y_train.shape[0]))\n",
        "y_train = y_train[shuffle_indices]  # rearranges the y_train based on the shuffled indices\n",
        "XTr = XTr[shuffle_indices]  # rearranges the x_train based on the shuffled indices"
      ],
      "execution_count": 60,
      "outputs": []
    },
    {
      "cell_type": "code",
      "metadata": {
        "colab": {
          "base_uri": "https://localhost:8080/"
        },
        "id": "UNcQ0gXe2ewb",
        "outputId": "b5f7953c-c592-46be-be7d-11e5334f909e"
      },
      "source": [
        "print(y_train)"
      ],
      "execution_count": 61,
      "outputs": [
        {
          "output_type": "stream",
          "text": [
            "[[0. 1.]\n",
            " [0. 1.]\n",
            " [0. 1.]\n",
            " ...\n",
            " [0. 1.]\n",
            " [1. 0.]\n",
            " [1. 0.]]\n"
          ],
          "name": "stdout"
        }
      ]
    },
    {
      "cell_type": "code",
      "metadata": {
        "id": "2VPdk5WzsacO"
      },
      "source": [
        "shape = XTr.shape[1:]\n",
        "train_batch_size = 32\n",
        "train_steps = XTr.shape[0]//train_batch_size # need to specify the number of steps since the data generator outputs continuously\n",
        "\n",
        "\n",
        "x_test = XTe.astype('float32') # not sure why I do this but let's keep it for now\n",
        "x_train = XTr.astype('float32')\n",
        "\n",
        "train_generator = ImageDataGenerator(width_shift_range=20,\n",
        "                            #height_shift_range=4,\n",
        "                            #zoom_range=[1/1.3, 1.3],\n",
        "                            \n",
        "                            )\n",
        "\n",
        "\n",
        "train_generator.fit(x_train) #apply the augmetnation to train data\n",
        "\n",
        "train_datagen = train_generator.flow(x_train, y_train, batch_size=train_batch_size) # creates the mii batch flow\n",
        "\n"
      ],
      "execution_count": 62,
      "outputs": []
    },
    {
      "cell_type": "code",
      "metadata": {
        "colab": {
          "base_uri": "https://localhost:8080/"
        },
        "id": "y6ZBB7StsbLh",
        "outputId": "c93e9ddc-d934-4f3e-c7e0-987c2900c862"
      },
      "source": [
        "model = Sequential()\n",
        "\n",
        "model.add(Convolution2D(20, (3, 3), activation='relu', padding='same', input_shape=shape))\n",
        "model.add(BatchNormalization())\n",
        "model.add(MaxPooling2D(2, 2))\n",
        "model.add(Dropout(0.25))\n",
        "\n",
        "model.add(Convolution2D(50, (3, 3), activation='relu', padding='same', input_shape=shape))\n",
        "model.add(BatchNormalization())\n",
        "model.add(MaxPooling2D(2, 2))\n",
        "model.add(Dropout(0.25))\n",
        "\n",
        "model.add(Flatten())\n",
        "model.add(Dense(100, activation='relu'))\n",
        "model.add(BatchNormalization())\n",
        "model.add(Dropout(0.5))\n",
        "\n",
        "model.add(Dense(2, activation='softmax'))\n",
        "\n",
        "sgd = optimizers.SGD(lr=0.00004, decay=1e-6, momentum=0.9, nesterov=True)\n",
        "model.compile(optimizer=sgd, loss='binary_crossentropy', metrics=['accuracy'])\n",
        "\n",
        "\n",
        "#Callbacks\n",
        "\n",
        "checkpointer = ModelCheckpoint(monitor='val_loss', # automatically saves the model \n",
        "                               mode='auto', \n",
        "                               filepath='../test_model.h5',\n",
        "                               verbose=1,\n",
        "                               save_best_only=True,\n",
        "                               save_freq = 2\n",
        "                              )\n",
        "\n",
        "#csv_logger = CSVLogger('/test_model.txt') # saves the output log in csv\n",
        "\n",
        "\n",
        "#lr = ReduceLROnPlateau(monitor='val_loss', factor=0.1, # can be used to reduce the learning rate once the model stops learning\n",
        "                       #min_delta=0.001, cooldown=1,\n",
        "                       #verbose=1, patience=10,\n",
        "                       # min_lr=4.0e-5)\n",
        "\n",
        "#FitTheModel\n",
        "\n",
        "history = model.fit_generator(train_datagen,\n",
        "                              steps_per_epoch=train_steps,\n",
        "                              epochs=15,\n",
        "                              validation_data=(x_test, y_test),\n",
        "                              #callbacks=[checkpointer, verbose=True, csv_logger,\n",
        "                              #TensorBoardColabCallback(tbc)]\n",
        "                              )\n",
        "                              \n",
        "                              "
      ],
      "execution_count": 63,
      "outputs": [
        {
          "output_type": "stream",
          "text": [
            "Epoch 1/15\n",
            "25/25 [==============================] - 2s 77ms/step - loss: 0.9590 - accuracy: 0.6360 - val_loss: 2.0351 - val_accuracy: 0.2745\n",
            "Epoch 2/15\n",
            "25/25 [==============================] - 2s 71ms/step - loss: 0.7131 - accuracy: 0.6999 - val_loss: 0.7088 - val_accuracy: 0.5686\n",
            "Epoch 3/15\n",
            "25/25 [==============================] - 2s 70ms/step - loss: 0.6359 - accuracy: 0.7471 - val_loss: 0.3266 - val_accuracy: 0.9085\n",
            "Epoch 4/15\n",
            "25/25 [==============================] - 2s 72ms/step - loss: 0.6224 - accuracy: 0.7407 - val_loss: 0.3168 - val_accuracy: 0.9216\n",
            "Epoch 5/15\n",
            "25/25 [==============================] - 2s 72ms/step - loss: 0.5521 - accuracy: 0.7739 - val_loss: 0.2436 - val_accuracy: 0.9216\n",
            "Epoch 6/15\n",
            "25/25 [==============================] - 2s 72ms/step - loss: 0.5770 - accuracy: 0.7535 - val_loss: 0.1964 - val_accuracy: 0.9412\n",
            "Epoch 7/15\n",
            "25/25 [==============================] - 2s 72ms/step - loss: 0.5151 - accuracy: 0.7701 - val_loss: 0.2038 - val_accuracy: 0.8758\n",
            "Epoch 8/15\n",
            "25/25 [==============================] - 2s 72ms/step - loss: 0.5118 - accuracy: 0.7752 - val_loss: 0.1918 - val_accuracy: 0.8824\n",
            "Epoch 9/15\n",
            "25/25 [==============================] - 2s 72ms/step - loss: 0.5122 - accuracy: 0.7842 - val_loss: 0.1768 - val_accuracy: 0.9020\n",
            "Epoch 10/15\n",
            "25/25 [==============================] - 2s 73ms/step - loss: 0.4461 - accuracy: 0.8072 - val_loss: 0.1603 - val_accuracy: 0.9216\n",
            "Epoch 11/15\n",
            "25/25 [==============================] - 2s 71ms/step - loss: 0.4877 - accuracy: 0.8020 - val_loss: 0.1856 - val_accuracy: 0.8758\n",
            "Epoch 12/15\n",
            "25/25 [==============================] - 2s 71ms/step - loss: 0.4700 - accuracy: 0.7995 - val_loss: 0.1664 - val_accuracy: 0.8889\n",
            "Epoch 13/15\n",
            "25/25 [==============================] - 2s 72ms/step - loss: 0.4043 - accuracy: 0.8276 - val_loss: 0.1979 - val_accuracy: 0.8627\n",
            "Epoch 14/15\n",
            "25/25 [==============================] - 2s 70ms/step - loss: 0.3423 - accuracy: 0.8493 - val_loss: 0.1959 - val_accuracy: 0.8758\n",
            "Epoch 15/15\n",
            "25/25 [==============================] - 2s 71ms/step - loss: 0.3949 - accuracy: 0.8340 - val_loss: 0.1803 - val_accuracy: 0.8824\n"
          ],
          "name": "stdout"
        }
      ]
    },
    {
      "cell_type": "code",
      "metadata": {
        "id": "SiyO6I15ses0"
      },
      "source": [
        ""
      ],
      "execution_count": null,
      "outputs": []
    }
  ]
}