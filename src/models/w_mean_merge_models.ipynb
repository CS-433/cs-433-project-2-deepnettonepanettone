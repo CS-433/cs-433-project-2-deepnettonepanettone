{
  "nbformat": 4,
  "nbformat_minor": 0,
  "metadata": {
    "colab": {
      "name": "clean_notebook.ipynb",
      "provenance": [],
      "collapsed_sections": []
    },
    "kernelspec": {
      "name": "python3",
      "display_name": "Python 3"
    },
    "accelerator": "GPU"
  },
  "cells": [
    {
      "cell_type": "code",
      "metadata": {
        "colab": {
          "base_uri": "https://localhost:8080/"
        },
        "id": "Sqff39csKTz8",
        "outputId": "29180878-4663-4661-c939-71ef65f2490b"
      },
      "source": [
        "from google.colab import drive\n",
        "drive.mount('/content/gdrive')"
      ],
      "execution_count": 1,
      "outputs": [
        {
          "output_type": "stream",
          "text": [
            "Drive already mounted at /content/gdrive; to attempt to forcibly remount, call drive.mount(\"/content/gdrive\", force_remount=True).\n"
          ],
          "name": "stdout"
        }
      ]
    },
    {
      "cell_type": "code",
      "metadata": {
        "colab": {
          "base_uri": "https://localhost:8080/"
        },
        "id": "Iu_Nli0zP4Vo",
        "outputId": "91ac0626-9567-4c5d-9965-63927f7adb79"
      },
      "source": [
        "%cd gdrive/My Drive/test_colab/ml_project2/src"
      ],
      "execution_count": 2,
      "outputs": [
        {
          "output_type": "stream",
          "text": [
            "/content/gdrive/My Drive/test_colab/ml_project2/src\n"
          ],
          "name": "stdout"
        }
      ]
    },
    {
      "cell_type": "code",
      "metadata": {
        "colab": {
          "base_uri": "https://localhost:8080/"
        },
        "id": "3RVRANMpTiI1",
        "outputId": "40ea1cae-6439-4202-c779-115d8903f0c5"
      },
      "source": [
        "!git reset --hard\n",
        "!git pull"
      ],
      "execution_count": 3,
      "outputs": [
        {
          "output_type": "stream",
          "text": [
            "Checking out files: 100% (559/559), done.\n",
            "HEAD is now at f5aa47c import error\n",
            "remote: Enumerating objects: 7, done.\u001b[K\n",
            "remote: Counting objects: 100% (7/7), done.\u001b[K\n",
            "remote: Compressing objects: 100% (1/1), done.\u001b[K\n",
            "remote: Total 4 (delta 3), reused 4 (delta 3), pack-reused 0\u001b[K\n",
            "Unpacking objects: 100% (4/4), done.\n",
            "From https://github.com/salimbeni1/ml_project2\n",
            "   f5aa47c..e289fdb  main       -> origin/main\n",
            "Updating f5aa47c..e289fdb\n",
            "Fast-forward\n",
            " src/utils.py | 15 \u001b[32m+++++++++++++++\u001b[m\n",
            " 1 file changed, 15 insertions(+)\n"
          ],
          "name": "stdout"
        }
      ]
    },
    {
      "cell_type": "code",
      "metadata": {
        "id": "zGAlCPjfWOac"
      },
      "source": [
        "import sound_processing as sp\n",
        "import utils as ut\n",
        "import numpy as np\n",
        "from scipy import signal\n",
        "from scipy.io import wavfile\n",
        "import matplotlib.pyplot as plt\n",
        "import glob"
      ],
      "execution_count": 4,
      "outputs": []
    },
    {
      "cell_type": "code",
      "metadata": {
        "colab": {
          "base_uri": "https://localhost:8080/"
        },
        "id": "f5xiEH9kKeUO",
        "outputId": "e6f42e99-c7ab-47f9-f178-61ed80e1a40b"
      },
      "source": [
        "features, diseases, positions, controls, frequences, patientnbs = sp.get_feature_and_labels( '../data/train/*/*/*/'  ) # both control and case\n",
        "\n",
        "indx = 100 # example on sample nb100\n",
        "print(features[indx].shape ,diseases[indx] , positions[indx] , controls[indx] , frequences[indx] , patientnbs[indx])"
      ],
      "execution_count": 5,
      "outputs": [
        {
          "output_type": "stream",
          "text": [
            "100%|██████████| 532/532 [04:20<00:00,  2.04it/s]"
          ],
          "name": "stderr"
        },
        {
          "output_type": "stream",
          "text": [
            "(2, 110250) Pn P6 Ca 22050 29\n"
          ],
          "name": "stdout"
        },
        {
          "output_type": "stream",
          "text": [
            "\n"
          ],
          "name": "stderr"
        }
      ]
    },
    {
      "cell_type": "code",
      "metadata": {
        "id": "REgMIIXrP1_R",
        "colab": {
          "base_uri": "https://localhost:8080/"
        },
        "outputId": "600e8d98-7f93-4980-a6ba-4b00414c4e5c"
      },
      "source": [
        "featuresT, diseasesT, positionsT, controlsT, frequencesT, patientnbsT = sp.get_feature_and_labels( '../data/test/*/*/*/'  ) # both control and case\n",
        "\n",
        "indx = 2 # example on sample nb100\n",
        "print(featuresT[indx].shape ,diseasesT[indx] , positionsT[indx] , controlsT[indx] , frequencesT[indx] , patientnbsT[indx])"
      ],
      "execution_count": 6,
      "outputs": [
        {
          "output_type": "stream",
          "text": [
            "100%|██████████| 70/70 [00:49<00:00,  1.42it/s]"
          ],
          "name": "stderr"
        },
        {
          "output_type": "stream",
          "text": [
            "(4, 110250) Pn P3 Ca 22050 30\n"
          ],
          "name": "stdout"
        },
        {
          "output_type": "stream",
          "text": [
            "\n"
          ],
          "name": "stderr"
        }
      ]
    },
    {
      "cell_type": "code",
      "metadata": {
        "id": "9u0RLb5OrSkg"
      },
      "source": [
        "import keras\n",
        "from keras.models import Sequential\n",
        "from keras.layers import Dense, Convolution2D, Flatten, MaxPooling2D, ZeroPadding2D, Dropout, BatchNormalization, Activation\n",
        "from keras import optimizers\n",
        "from keras.utils import to_categorical\n",
        "from keras.preprocessing.image import ImageDataGenerator\n",
        "from keras.models import load_model\n",
        "from keras.callbacks import ModelCheckpoint, CSVLogger, RemoteMonitor, TensorBoard, ReduceLROnPlateau\n",
        "from tensorboardcolab import TensorBoardColab, TensorBoardColabCallback"
      ],
      "execution_count": 7,
      "outputs": []
    },
    {
      "cell_type": "code",
      "metadata": {
        "colab": {
          "base_uri": "https://localhost:8080/"
        },
        "id": "F3O2H2CIo8r5",
        "outputId": "8d694b95-a3ef-476b-b9c0-614c350f93a7"
      },
      "source": [
        "#position = 'P5'\n",
        "#indx = positions == position\n",
        "indx = range(positions.shape[0])\n",
        "\n",
        "x_train, y_train, pnb_train, pos_train = ut.prepare_samples(features[indx],controls[indx],positions[indx],patientnbs[indx])\n",
        "print(x_train.shape, y_train.shape)"
      ],
      "execution_count": 9,
      "outputs": [
        {
          "output_type": "stream",
          "text": [
            "shuffleling\n",
            "(5894, 150, 216, 1) (5894, 2)\n"
          ],
          "name": "stdout"
        }
      ]
    },
    {
      "cell_type": "code",
      "metadata": {
        "colab": {
          "base_uri": "https://localhost:8080/"
        },
        "id": "Zgh5-9FqqgBw",
        "outputId": "cca729ce-50a6-43ce-d5bf-c53de8e0b3f3"
      },
      "source": [
        "#position = 'P5'\n",
        "#indx = positionsT == position\n",
        "indx = range(positionsT.shape[0])\n",
        "\n",
        "x_test, y_test, pnb_test, pos_test = ut.prepare_samples(featuresT[indx],controlsT[indx],positionsT[indx],patientnbsT[indx])\n",
        "print(x_test.shape, y_test.shape)"
      ],
      "execution_count": 10,
      "outputs": [
        {
          "output_type": "stream",
          "text": [
            "shuffleling\n",
            "(1256, 150, 216, 1) (1256, 2)\n"
          ],
          "name": "stdout"
        }
      ]
    },
    {
      "cell_type": "code",
      "metadata": {
        "id": "2VPdk5WzsacO"
      },
      "source": [
        "shape = x_train.shape[1:]\n",
        "train_batch_size = 32\n",
        "train_steps = x_train.shape[0]//train_batch_size # need to specify the number of steps since the data generator outputs continuously\n",
        "\n",
        "train_generator = ImageDataGenerator(width_shift_range=20,\n",
        "                            #height_shift_range=4,\n",
        "                            #zoom_range=[1/1.3, 1.3],                            \n",
        "                            )\n",
        "\n",
        "\n",
        "train_generator.fit(x_train) #apply the augmetnation to train data\n",
        "\n",
        "train_datagen = train_generator.flow(x_train, y_train, batch_size=train_batch_size) # creates the mii batch flow"
      ],
      "execution_count": 11,
      "outputs": []
    },
    {
      "cell_type": "code",
      "metadata": {
        "id": "y6ZBB7StsbLh"
      },
      "source": [
        "model = Sequential()\n",
        "\n",
        "model.add(Convolution2D(20, (3, 3), activation='relu', padding='same', input_shape=shape))\n",
        "model.add(BatchNormalization())\n",
        "model.add(MaxPooling2D(2, 2))\n",
        "model.add(Dropout(0.25))\n",
        "\n",
        "model.add(Convolution2D(50, (3, 3), activation='relu', padding='same', input_shape=shape))\n",
        "model.add(BatchNormalization())\n",
        "model.add(MaxPooling2D(2, 2))\n",
        "model.add(Dropout(0.25))\n",
        "\n",
        "model.add(Flatten())\n",
        "dense1_unit = 25\n",
        "model.add(Dense(dense1_unit, activation='relu'))\n",
        "model.add(BatchNormalization())\n",
        "model.add(Dropout(0.5))\n",
        "\n",
        "model.add(Dense(2, activation='softmax'))\n",
        "\n",
        "sgd = optimizers.SGD(lr=0.00004, decay=1e-6, momentum=0.9, nesterov=True)\n",
        "\n",
        "model.compile(optimizer=sgd, loss='binary_crossentropy', metrics=['accuracy',ut.f1])                        "
      ],
      "execution_count": 12,
      "outputs": []
    },
    {
      "cell_type": "code",
      "metadata": {
        "colab": {
          "base_uri": "https://localhost:8080/"
        },
        "id": "94KgWdPY40Tj",
        "outputId": "9b8273b6-e3f3-40bb-8ba0-ca8bd73f628d"
      },
      "source": [
        "#### Callbacks\n",
        "checkpointer = ModelCheckpoint(monitor='val_accuracy', # automatically saves the model \n",
        "                               mode='auto', \n",
        "                               filepath='../XXX.h5',\n",
        "                               verbose=1,\n",
        "                               save_best_only=True,\n",
        "                               save_freq = 'epoch'\n",
        "                              )\n",
        "                            \n",
        "\n",
        "csv_logger = CSVLogger('../XXX.txt') # saves the output log in csv\n",
        "\n",
        "\n",
        "lr = ReduceLROnPlateau(monitor='val_loss', factor=0.1, # can be used to reduce the learning rate once the model stops learning\n",
        "                       min_delta=0.001, cooldown=1,\n",
        "                       verbose=1, patience=10,\n",
        "                       min_lr=4.0e-5\n",
        "                       )\n",
        "\n",
        "#### Fit\n",
        "history = model.fit_generator(train_datagen,\n",
        "                              steps_per_epoch=train_steps,\n",
        "                              epochs=10,\n",
        "                              validation_data=(x_test, y_test),\n",
        "                              #callbacks= [checkpointer]\n",
        "                              )"
      ],
      "execution_count": 19,
      "outputs": [
        {
          "output_type": "stream",
          "text": [
            "Epoch 1/10\n",
            "184/184 [==============================] - 15s 83ms/step - loss: 0.5791 - accuracy: 0.7320 - f1: 0.7317 - val_loss: 0.4214 - val_accuracy: 0.8065 - val_f1: 0.8078\n",
            "Epoch 2/10\n",
            "184/184 [==============================] - 15s 83ms/step - loss: 0.5476 - accuracy: 0.7371 - f1: 0.7346 - val_loss: 0.4057 - val_accuracy: 0.8296 - val_f1: 0.8305\n",
            "Epoch 3/10\n",
            "184/184 [==============================] - 15s 83ms/step - loss: 0.5116 - accuracy: 0.7566 - f1: 0.7576 - val_loss: 0.4223 - val_accuracy: 0.8129 - val_f1: 0.8141\n",
            "Epoch 4/10\n",
            "184/184 [==============================] - 15s 83ms/step - loss: 0.4958 - accuracy: 0.7610 - f1: 0.7606 - val_loss: 0.3903 - val_accuracy: 0.8424 - val_f1: 0.8430\n",
            "Epoch 5/10\n",
            "184/184 [==============================] - 15s 83ms/step - loss: 0.5030 - accuracy: 0.7593 - f1: 0.7582 - val_loss: 0.4263 - val_accuracy: 0.8264 - val_f1: 0.8273\n",
            "Epoch 6/10\n",
            "184/184 [==============================] - 15s 82ms/step - loss: 0.4864 - accuracy: 0.7615 - f1: 0.7611 - val_loss: 0.4224 - val_accuracy: 0.8225 - val_f1: 0.8234\n",
            "Epoch 7/10\n",
            "184/184 [==============================] - 15s 83ms/step - loss: 0.4741 - accuracy: 0.7663 - f1: 0.7673 - val_loss: 0.4244 - val_accuracy: 0.8272 - val_f1: 0.8281\n",
            "Epoch 8/10\n",
            "184/184 [==============================] - 16s 84ms/step - loss: 0.4670 - accuracy: 0.7735 - f1: 0.7737 - val_loss: 0.4037 - val_accuracy: 0.8352 - val_f1: 0.8359\n",
            "Epoch 9/10\n",
            "184/184 [==============================] - 15s 82ms/step - loss: 0.4659 - accuracy: 0.7711 - f1: 0.7713 - val_loss: 0.4659 - val_accuracy: 0.7811 - val_f1: 0.7828\n",
            "Epoch 10/10\n",
            "184/184 [==============================] - 15s 82ms/step - loss: 0.4602 - accuracy: 0.7782 - f1: 0.7777 - val_loss: 0.4114 - val_accuracy: 0.8344 - val_f1: 0.8352\n"
          ],
          "name": "stdout"
        }
      ]
    },
    {
      "cell_type": "code",
      "metadata": {
        "colab": {
          "base_uri": "https://localhost:8080/",
          "height": 295
        },
        "id": "ZXaeiD0wMMHs",
        "outputId": "9d091254-cb0c-49fc-cacb-493f7bba3751"
      },
      "source": [
        "ut.plot_history(history)"
      ],
      "execution_count": 20,
      "outputs": [
        {
          "output_type": "display_data",
          "data": {
            "image/png": "[encoded data removed]",
            "text/plain": [
              "<Figure size 432x288 with 1 Axes>"
            ]
          },
          "metadata": {
            "tags": [],
            "needs_background": "light"
          }
        }
      ]
    },
    {
      "cell_type": "code",
      "metadata": {
        "colab": {
          "base_uri": "https://localhost:8080/"
        },
        "id": "lx8kQ6Slz61B",
        "outputId": "eac2e771-fbf3-4e07-aa8b-27d1e4134c52"
      },
      "source": [
        "for pos in range(8):\n",
        "  model.load_weights('../P'+str(pos+1)+'_D25.h5')\n",
        "  print('Pos'+str(pos+1),model.evaluate(x_test, y_test))"
      ],
      "execution_count": 15,
      "outputs": [
        {
          "output_type": "stream",
          "text": [
            "40/40 [==============================] - 1s 13ms/step - loss: 0.5313 - accuracy: 0.7381 - f1: 0.7406\n",
            "Pos1 [0.5312676429748535, 0.7380573153495789, 0.7406249642372131]\n",
            "40/40 [==============================] - 1s 13ms/step - loss: 0.5510 - accuracy: 0.7970 - f1: 0.7984\n",
            "Pos2 [0.5510334968566895, 0.7969745397567749, 0.7984374761581421]\n",
            "40/40 [==============================] - 1s 13ms/step - loss: 0.4869 - accuracy: 0.8209 - f1: 0.8219\n",
            "Pos3 [0.4868663251399994, 0.8208598494529724, 0.8218749165534973]\n",
            "40/40 [==============================] - 1s 13ms/step - loss: 0.4806 - accuracy: 0.8272 - f1: 0.8281\n",
            "Pos4 [0.48064547777175903, 0.8272293210029602, 0.8281248807907104]\n",
            "40/40 [==============================] - 1s 13ms/step - loss: 0.6951 - accuracy: 0.7930 - f1: 0.7922\n",
            "Pos5 [0.6950857043266296, 0.7929936051368713, 0.792187511920929]\n",
            "40/40 [==============================] - 1s 13ms/step - loss: 0.5611 - accuracy: 0.8312 - f1: 0.8297\n",
            "Pos6 [0.5611409544944763, 0.831210196018219, 0.8296874761581421]\n",
            "40/40 [==============================] - 0s 12ms/step - loss: 0.8402 - accuracy: 0.6967 - f1: 0.6977\n",
            "Pos7 [0.8402007222175598, 0.6966560482978821, 0.6976562142372131]\n",
            "40/40 [==============================] - 1s 13ms/step - loss: 0.3760 - accuracy: 0.8503 - f1: 0.8531\n",
            "Pos8 [0.3759962320327759, 0.8503184914588928, 0.8531249165534973]\n"
          ],
          "name": "stdout"
        }
      ]
    },
    {
      "cell_type": "code",
      "metadata": {
        "colab": {
          "base_uri": "https://localhost:8080/"
        },
        "id": "dC8hHXZgz7A8",
        "outputId": "887d9a90-345f-4096-d86f-4774264b4ade"
      },
      "source": [
        "x_test_ = x_test.copy()\n",
        "y_test_ = y_test.copy()\n",
        "p_test_ = pnb_test .copy()\n",
        "pos_test_ = pos_test.copy()\n",
        "\n",
        "print(x_test_.shape,y_test_.shape,p_test_.shape,pos_test_.shape)"
      ],
      "execution_count": 16,
      "outputs": [
        {
          "output_type": "stream",
          "text": [
            "(1256, 150, 216, 1) (1256, 2) (1256,) (1256,)\n"
          ],
          "name": "stdout"
        }
      ]
    },
    {
      "cell_type": "code",
      "metadata": {
        "colab": {
          "base_uri": "https://localhost:8080/"
        },
        "id": "26GKFxr62LMf",
        "outputId": "53569c1b-6770-484a-fda0-d59c39f9a829"
      },
      "source": [
        "print(np.unique(patientnbsT))\n",
        "unique_patient = np.unique(p_test_)"
      ],
      "execution_count": 17,
      "outputs": [
        {
          "output_type": "stream",
          "text": [
            "['12' '14' '18' '30' '40' '43' '46' '65' '7']\n"
          ],
          "name": "stdout"
        }
      ]
    },
    {
      "cell_type": "code",
      "metadata": {
        "colab": {
          "base_uri": "https://localhost:8080/"
        },
        "id": "ynp9zyMQ7_KC",
        "outputId": "6026a44a-764f-4e63-83b5-75d8138b4cfc"
      },
      "source": [
        "position_weights = [1,1,1,1,1,1,1,1]\n",
        "\n",
        "y_pred_patient = []\n",
        "y_expc_patient = []\n",
        "\n",
        "for patient in unique_patient:\n",
        "  x_test_patient = x_test_[p_test_ == patient]\n",
        "  y_test_patient = y_test_[p_test_ == patient][0] # all the same\n",
        "  pos_test_patient = pos_test_[p_test_ == patient]\n",
        "\n",
        "  pred_patient = []\n",
        "  print(np.unique(pos_test_patient))\n",
        "  for pos in np.unique(pos_test_patient):\n",
        "    model.load_weights('../'+str(pos)+'_D25.h5')\n",
        "    pred = model.predict(x_test_patient[pos_test_patient == pos])\n",
        "    for i in range(position_weights[int(pos[1])-1]):\n",
        "      pred_patient.append(np.mean(pred,axis=0))\n",
        "    \n",
        "  y_pred_patient.append(np.mean(pred_patient,axis=0))\n",
        "  y_expc_patient.append(y_test_patient)\n",
        "  print('patient',patient ,' predicted:', np.mean(pred_patient,axis=0) , 'expected:' , y_test_patient)\n",
        "\n",
        "y_pred_patient = np.array(y_pred_patient)\n",
        "y_expc_patient = np.array(y_expc_patient)"
      ],
      "execution_count": 18,
      "outputs": [
        {
          "output_type": "stream",
          "text": [
            "['P1' 'P2' 'P3' 'P4' 'P5' 'P6' 'P7' 'P8']\n",
            "patient 12  predicted: [0.8468406 0.1531593] expected: [1. 0.]\n",
            "['P1' 'P2' 'P3' 'P4' 'P5' 'P6' 'P7' 'P8']\n",
            "patient 14  predicted: [0.8046738  0.19532621] expected: [1. 0.]\n",
            "['P1' 'P2' 'P3' 'P4' 'P5' 'P6' 'P7' 'P8']\n",
            "patient 18  predicted: [0.8813555  0.11864445] expected: [1. 0.]\n",
            "['P1' 'P2' 'P3' 'P5' 'P6' 'P7' 'P8']\n",
            "patient 30  predicted: [0.12579393 0.87420607] expected: [0. 1.]\n",
            "['P1' 'P2' 'P3' 'P4' 'P5' 'P6' 'P7' 'P8']\n",
            "patient 40  predicted: [0.03155669 0.96844333] expected: [0. 1.]\n",
            "['P1' 'P2' 'P3' 'P4' 'P5' 'P6' 'P7']\n",
            "patient 43  predicted: [0.02664859 0.9733514 ] expected: [0. 1.]\n",
            "['P1' 'P2' 'P3' 'P4' 'P5' 'P6' 'P7' 'P8']\n",
            "patient 46  predicted: [0.01906963 0.9809303 ] expected: [0. 1.]\n",
            "['P1' 'P2' 'P3' 'P4' 'P5' 'P6' 'P7' 'P8']\n",
            "patient 65  predicted: [0.6810904  0.31890965] expected: [0. 1.]\n",
            "['P1' 'P2' 'P3' 'P4' 'P5' 'P6' 'P7' 'P8']\n",
            "patient 7  predicted: [0.80097765 0.19902232] expected: [1. 0.]\n"
          ],
          "name": "stdout"
        }
      ]
    },
    {
      "cell_type": "code",
      "metadata": {
        "id": "LIgTLwkVEILp"
      },
      "source": [
        ""
      ],
      "execution_count": 18,
      "outputs": []
    }
  ]
}