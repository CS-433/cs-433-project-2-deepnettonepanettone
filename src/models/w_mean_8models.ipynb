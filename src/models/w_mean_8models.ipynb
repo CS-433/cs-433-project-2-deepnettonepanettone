{
  "nbformat": 4,
  "nbformat_minor": 0,
  "metadata": {
    "colab": {
      "name": "pos1_dense25.ipynb",
      "provenance": [],
      "collapsed_sections": []
    },
    "kernelspec": {
      "name": "python3",
      "display_name": "Python 3"
    },
    "accelerator": "GPU"
  },
  "cells": [
    {
      "cell_type": "code",
      "metadata": {
        "colab": {
          "base_uri": "https://localhost:8080/"
        },
        "id": "Sqff39csKTz8",
        "outputId": "45ba6cff-85db-4f4c-e879-9c9e80211d2d"
      },
      "source": [
        "from google.colab import drive\n",
        "drive.mount('/content/gdrive')"
      ],
      "execution_count": 1,
      "outputs": [
        {
          "output_type": "stream",
          "text": [
            "Drive already mounted at /content/gdrive; to attempt to forcibly remount, call drive.mount(\"/content/gdrive\", force_remount=True).\n"
          ],
          "name": "stdout"
        }
      ]
    },
    {
      "cell_type": "code",
      "metadata": {
        "colab": {
          "base_uri": "https://localhost:8080/"
        },
        "id": "Iu_Nli0zP4Vo",
        "outputId": "28241d59-9caf-45f2-e701-fd87be03d42b"
      },
      "source": [
        "%cd gdrive/My Drive/test_colab/ml_project2/src"
      ],
      "execution_count": 2,
      "outputs": [
        {
          "output_type": "stream",
          "text": [
            "/content/gdrive/My Drive/test_colab/ml_project2/src\n"
          ],
          "name": "stdout"
        }
      ]
    },
    {
      "cell_type": "code",
      "metadata": {
        "colab": {
          "base_uri": "https://localhost:8080/"
        },
        "id": "3RVRANMpTiI1",
        "outputId": "d93292ee-0b39-4567-f082-78701d22bc22"
      },
      "source": [
        "! git pull"
      ],
      "execution_count": 4,
      "outputs": [
        {
          "output_type": "stream",
          "text": [
            "remote: Enumerating objects: 8, done.\u001b[K\n",
            "remote: Counting objects:  12% (1/8)\u001b[K\rremote: Counting objects:  25% (2/8)\u001b[K\rremote: Counting objects:  37% (3/8)\u001b[K\rremote: Counting objects:  50% (4/8)\u001b[K\rremote: Counting objects:  62% (5/8)\u001b[K\rremote: Counting objects:  75% (6/8)\u001b[K\rremote: Counting objects:  87% (7/8)\u001b[K\rremote: Counting objects: 100% (8/8)\u001b[K\rremote: Counting objects: 100% (8/8), done.\u001b[K\n",
            "remote: Compressing objects: 100% (4/4), done.\u001b[K\n",
            "remote: Total 5 (delta 1), reused 5 (delta 1), pack-reused 0\u001b[K\n",
            "Unpacking objects: 100% (5/5), done.\n",
            "From https://github.com/salimbeni1/ml_project2\n",
            "   634a403..ba9c2ab  main       -> origin/main\n",
            "Updating 634a403..ba9c2ab\n",
            "\n",
            "^C\n"
          ],
          "name": "stdout"
        }
      ]
    },
    {
      "cell_type": "code",
      "metadata": {
        "colab": {
          "base_uri": "https://localhost:8080/"
        },
        "id": "LyL8esgypkc1",
        "outputId": "b5afb69b-9868-4663-e80b-f3e7c7b71669"
      },
      "source": [
        "!ls ../data"
      ],
      "execution_count": 3,
      "outputs": [
        {
          "output_type": "stream",
          "text": [
            "test  train\n"
          ],
          "name": "stdout"
        }
      ]
    },
    {
      "cell_type": "code",
      "metadata": {
        "id": "_ZVtLegFUM4j"
      },
      "source": [
        "import sound_processing as sp"
      ],
      "execution_count": 4,
      "outputs": []
    },
    {
      "cell_type": "code",
      "metadata": {
        "id": "zGAlCPjfWOac"
      },
      "source": [
        "import numpy as np\n",
        "from scipy import signal\n",
        "from scipy.io import wavfile\n",
        "import matplotlib.pyplot as plt\n",
        "import glob"
      ],
      "execution_count": 5,
      "outputs": []
    },
    {
      "cell_type": "code",
      "metadata": {
        "id": "Ty9kS-NcWjsc"
      },
      "source": [
        "#sample_rate, samples = wavfile.read('../data/Pn_GVA_Cases/Pn_GVA_Ca10/audio/Pn_GVA_Ca10_P1.wav')\n",
        "#sp.show_spec_from_sample(samples , sample_rate)"
      ],
      "execution_count": 6,
      "outputs": []
    },
    {
      "cell_type": "code",
      "metadata": {
        "colab": {
          "base_uri": "https://localhost:8080/",
          "height": 402
        },
        "id": "f5xiEH9kKeUO",
        "outputId": "0742e412-cd91-4ee7-a54d-cc05ac2c91c6"
      },
      "source": [
        "features, diseases, positions, controls, frequences, patientnbs = sp.get_feature_and_labels( '../data/train/*/*/*/'  ) # both control and case\n",
        "\n",
        "indx = 100 # example on sample nb100\n",
        "print(features[indx] ,diseases[indx] , positions[indx] , controls[indx] , frequences[indx] , patientnbs[indx])"
      ],
      "execution_count": 7,
      "outputs": [
        {
          "output_type": "stream",
          "text": [
            " 23%|██▎       | 121/532 [00:34<02:27,  2.78it/s]"
          ],
          "name": "stderr"
        },
        {
          "output_type": "error",
          "ename": "KeyboardInterrupt",
          "evalue": "ignored",
          "traceback": [
            "\u001b[0;31m---------------------------------------------------------------------------\u001b[0m",
            "\u001b[0;31mKeyboardInterrupt\u001b[0m                         Traceback (most recent call last)",
            "\u001b[0;32m<ipython-input-7-782bdd8130ea>\u001b[0m in \u001b[0;36m<module>\u001b[0;34m()\u001b[0m\n\u001b[0;32m----> 1\u001b[0;31m \u001b[0mfeatures\u001b[0m\u001b[0;34m,\u001b[0m \u001b[0mdiseases\u001b[0m\u001b[0;34m,\u001b[0m \u001b[0mpositions\u001b[0m\u001b[0;34m,\u001b[0m \u001b[0mcontrols\u001b[0m\u001b[0;34m,\u001b[0m \u001b[0mfrequences\u001b[0m\u001b[0;34m,\u001b[0m \u001b[0mpatientnbs\u001b[0m \u001b[0;34m=\u001b[0m \u001b[0msp\u001b[0m\u001b[0;34m.\u001b[0m\u001b[0mget_feature_and_labels\u001b[0m\u001b[0;34m(\u001b[0m \u001b[0;34m'../data/train/*/*/*/'\u001b[0m  \u001b[0;34m)\u001b[0m \u001b[0;31m# both control and case\u001b[0m\u001b[0;34m\u001b[0m\u001b[0;34m\u001b[0m\u001b[0m\n\u001b[0m\u001b[1;32m      2\u001b[0m \u001b[0;34m\u001b[0m\u001b[0m\n\u001b[1;32m      3\u001b[0m \u001b[0mindx\u001b[0m \u001b[0;34m=\u001b[0m \u001b[0;36m100\u001b[0m \u001b[0;31m# example on sample nb100\u001b[0m\u001b[0;34m\u001b[0m\u001b[0;34m\u001b[0m\u001b[0m\n\u001b[1;32m      4\u001b[0m \u001b[0mprint\u001b[0m\u001b[0;34m(\u001b[0m\u001b[0mfeatures\u001b[0m\u001b[0;34m[\u001b[0m\u001b[0mindx\u001b[0m\u001b[0;34m]\u001b[0m \u001b[0;34m,\u001b[0m\u001b[0mdiseases\u001b[0m\u001b[0;34m[\u001b[0m\u001b[0mindx\u001b[0m\u001b[0;34m]\u001b[0m \u001b[0;34m,\u001b[0m \u001b[0mpositions\u001b[0m\u001b[0;34m[\u001b[0m\u001b[0mindx\u001b[0m\u001b[0;34m]\u001b[0m \u001b[0;34m,\u001b[0m \u001b[0mcontrols\u001b[0m\u001b[0;34m[\u001b[0m\u001b[0mindx\u001b[0m\u001b[0;34m]\u001b[0m \u001b[0;34m,\u001b[0m \u001b[0mfrequences\u001b[0m\u001b[0;34m[\u001b[0m\u001b[0mindx\u001b[0m\u001b[0;34m]\u001b[0m \u001b[0;34m,\u001b[0m \u001b[0mpatientnbs\u001b[0m\u001b[0;34m[\u001b[0m\u001b[0mindx\u001b[0m\u001b[0;34m]\u001b[0m\u001b[0;34m)\u001b[0m\u001b[0;34m\u001b[0m\u001b[0;34m\u001b[0m\u001b[0m\n",
            "\u001b[0;32m/content/gdrive/My Drive/test_colab/ml_project2/src/sound_processing.py\u001b[0m in \u001b[0;36mget_feature_and_labels\u001b[0;34m(path)\u001b[0m\n\u001b[1;32m     31\u001b[0m             \u001b[0msplit_path\u001b[0m \u001b[0;34m=\u001b[0m \u001b[0msound_path\u001b[0m\u001b[0;34m[\u001b[0m\u001b[0mi\u001b[0m\u001b[0;34m]\u001b[0m\u001b[0;34m.\u001b[0m\u001b[0msplit\u001b[0m\u001b[0;34m(\u001b[0m\u001b[0;34m'_'\u001b[0m\u001b[0;34m)\u001b[0m\u001b[0;34m\u001b[0m\u001b[0;34m\u001b[0m\u001b[0m\n\u001b[1;32m     32\u001b[0m \u001b[0;34m\u001b[0m\u001b[0m\n\u001b[0;32m---> 33\u001b[0;31m             \u001b[0mdata\u001b[0m\u001b[0;34m,\u001b[0m \u001b[0mrate\u001b[0m \u001b[0;34m=\u001b[0m \u001b[0mlibrosa\u001b[0m\u001b[0;34m.\u001b[0m\u001b[0mload\u001b[0m\u001b[0;34m(\u001b[0m\u001b[0msound_path\u001b[0m\u001b[0;34m[\u001b[0m\u001b[0mi\u001b[0m\u001b[0;34m]\u001b[0m\u001b[0;34m)\u001b[0m\u001b[0;34m\u001b[0m\u001b[0;34m\u001b[0m\u001b[0m\n\u001b[0m\u001b[1;32m     34\u001b[0m             \u001b[0;31m#rate, data = wavfile.read(sound_path[i])\u001b[0m\u001b[0;34m\u001b[0m\u001b[0;34m\u001b[0m\u001b[0;34m\u001b[0m\u001b[0m\n\u001b[1;32m     35\u001b[0m \u001b[0;34m\u001b[0m\u001b[0m\n",
            "\u001b[0;32m/usr/local/lib/python3.6/dist-packages/librosa/core/audio.py\u001b[0m in \u001b[0;36mload\u001b[0;34m(path, sr, mono, offset, duration, dtype, res_type)\u001b[0m\n\u001b[1;32m    165\u001b[0m \u001b[0;34m\u001b[0m\u001b[0m\n\u001b[1;32m    166\u001b[0m         \u001b[0;32mif\u001b[0m \u001b[0msr\u001b[0m \u001b[0;32mis\u001b[0m \u001b[0;32mnot\u001b[0m \u001b[0;32mNone\u001b[0m\u001b[0;34m:\u001b[0m\u001b[0;34m\u001b[0m\u001b[0;34m\u001b[0m\u001b[0m\n\u001b[0;32m--> 167\u001b[0;31m             \u001b[0my\u001b[0m \u001b[0;34m=\u001b[0m \u001b[0mresample\u001b[0m\u001b[0;34m(\u001b[0m\u001b[0my\u001b[0m\u001b[0;34m,\u001b[0m \u001b[0msr_native\u001b[0m\u001b[0;34m,\u001b[0m \u001b[0msr\u001b[0m\u001b[0;34m,\u001b[0m \u001b[0mres_type\u001b[0m\u001b[0;34m=\u001b[0m\u001b[0mres_type\u001b[0m\u001b[0;34m)\u001b[0m\u001b[0;34m\u001b[0m\u001b[0;34m\u001b[0m\u001b[0m\n\u001b[0m\u001b[1;32m    168\u001b[0m \u001b[0;34m\u001b[0m\u001b[0m\n\u001b[1;32m    169\u001b[0m         \u001b[0;32melse\u001b[0m\u001b[0;34m:\u001b[0m\u001b[0;34m\u001b[0m\u001b[0;34m\u001b[0m\u001b[0m\n",
            "\u001b[0;32m/usr/local/lib/python3.6/dist-packages/librosa/core/audio.py\u001b[0m in \u001b[0;36mresample\u001b[0;34m(y, orig_sr, target_sr, res_type, fix, scale, **kwargs)\u001b[0m\n\u001b[1;32m    291\u001b[0m         \u001b[0my_hat\u001b[0m \u001b[0;34m=\u001b[0m \u001b[0mscipy\u001b[0m\u001b[0;34m.\u001b[0m\u001b[0msignal\u001b[0m\u001b[0;34m.\u001b[0m\u001b[0mresample\u001b[0m\u001b[0;34m(\u001b[0m\u001b[0my\u001b[0m\u001b[0;34m,\u001b[0m \u001b[0mn_samples\u001b[0m\u001b[0;34m,\u001b[0m \u001b[0maxis\u001b[0m\u001b[0;34m=\u001b[0m\u001b[0;34m-\u001b[0m\u001b[0;36m1\u001b[0m\u001b[0;34m)\u001b[0m\u001b[0;34m\u001b[0m\u001b[0;34m\u001b[0m\u001b[0m\n\u001b[1;32m    292\u001b[0m     \u001b[0;32melse\u001b[0m\u001b[0;34m:\u001b[0m\u001b[0;34m\u001b[0m\u001b[0;34m\u001b[0m\u001b[0m\n\u001b[0;32m--> 293\u001b[0;31m         \u001b[0my_hat\u001b[0m \u001b[0;34m=\u001b[0m \u001b[0mresampy\u001b[0m\u001b[0;34m.\u001b[0m\u001b[0mresample\u001b[0m\u001b[0;34m(\u001b[0m\u001b[0my\u001b[0m\u001b[0;34m,\u001b[0m \u001b[0morig_sr\u001b[0m\u001b[0;34m,\u001b[0m \u001b[0mtarget_sr\u001b[0m\u001b[0;34m,\u001b[0m \u001b[0mfilter\u001b[0m\u001b[0;34m=\u001b[0m\u001b[0mres_type\u001b[0m\u001b[0;34m,\u001b[0m \u001b[0maxis\u001b[0m\u001b[0;34m=\u001b[0m\u001b[0;34m-\u001b[0m\u001b[0;36m1\u001b[0m\u001b[0;34m)\u001b[0m\u001b[0;34m\u001b[0m\u001b[0;34m\u001b[0m\u001b[0m\n\u001b[0m\u001b[1;32m    294\u001b[0m \u001b[0;34m\u001b[0m\u001b[0m\n\u001b[1;32m    295\u001b[0m     \u001b[0;32mif\u001b[0m \u001b[0mfix\u001b[0m\u001b[0;34m:\u001b[0m\u001b[0;34m\u001b[0m\u001b[0;34m\u001b[0m\u001b[0m\n",
            "\u001b[0;32m/usr/local/lib/python3.6/dist-packages/resampy/core.py\u001b[0m in \u001b[0;36mresample\u001b[0;34m(x, sr_orig, sr_new, axis, filter, **kwargs)\u001b[0m\n\u001b[1;32m    118\u001b[0m     \u001b[0mx_2d\u001b[0m \u001b[0;34m=\u001b[0m \u001b[0mx\u001b[0m\u001b[0;34m.\u001b[0m\u001b[0mswapaxes\u001b[0m\u001b[0;34m(\u001b[0m\u001b[0;36m0\u001b[0m\u001b[0;34m,\u001b[0m \u001b[0maxis\u001b[0m\u001b[0;34m)\u001b[0m\u001b[0;34m.\u001b[0m\u001b[0mreshape\u001b[0m\u001b[0;34m(\u001b[0m\u001b[0;34m(\u001b[0m\u001b[0mx\u001b[0m\u001b[0;34m.\u001b[0m\u001b[0mshape\u001b[0m\u001b[0;34m[\u001b[0m\u001b[0maxis\u001b[0m\u001b[0;34m]\u001b[0m\u001b[0;34m,\u001b[0m \u001b[0;34m-\u001b[0m\u001b[0;36m1\u001b[0m\u001b[0;34m)\u001b[0m\u001b[0;34m)\u001b[0m\u001b[0;34m\u001b[0m\u001b[0;34m\u001b[0m\u001b[0m\n\u001b[1;32m    119\u001b[0m     \u001b[0my_2d\u001b[0m \u001b[0;34m=\u001b[0m \u001b[0my\u001b[0m\u001b[0;34m.\u001b[0m\u001b[0mswapaxes\u001b[0m\u001b[0;34m(\u001b[0m\u001b[0;36m0\u001b[0m\u001b[0;34m,\u001b[0m \u001b[0maxis\u001b[0m\u001b[0;34m)\u001b[0m\u001b[0;34m.\u001b[0m\u001b[0mreshape\u001b[0m\u001b[0;34m(\u001b[0m\u001b[0;34m(\u001b[0m\u001b[0my\u001b[0m\u001b[0;34m.\u001b[0m\u001b[0mshape\u001b[0m\u001b[0;34m[\u001b[0m\u001b[0maxis\u001b[0m\u001b[0;34m]\u001b[0m\u001b[0;34m,\u001b[0m \u001b[0;34m-\u001b[0m\u001b[0;36m1\u001b[0m\u001b[0;34m)\u001b[0m\u001b[0;34m)\u001b[0m\u001b[0;34m\u001b[0m\u001b[0;34m\u001b[0m\u001b[0m\n\u001b[0;32m--> 120\u001b[0;31m     \u001b[0mresample_f\u001b[0m\u001b[0;34m(\u001b[0m\u001b[0mx_2d\u001b[0m\u001b[0;34m,\u001b[0m \u001b[0my_2d\u001b[0m\u001b[0;34m,\u001b[0m \u001b[0msample_ratio\u001b[0m\u001b[0;34m,\u001b[0m \u001b[0minterp_win\u001b[0m\u001b[0;34m,\u001b[0m \u001b[0minterp_delta\u001b[0m\u001b[0;34m,\u001b[0m \u001b[0mprecision\u001b[0m\u001b[0;34m)\u001b[0m\u001b[0;34m\u001b[0m\u001b[0;34m\u001b[0m\u001b[0m\n\u001b[0m\u001b[1;32m    121\u001b[0m \u001b[0;34m\u001b[0m\u001b[0m\n\u001b[1;32m    122\u001b[0m     \u001b[0;32mreturn\u001b[0m \u001b[0my\u001b[0m\u001b[0;34m\u001b[0m\u001b[0;34m\u001b[0m\u001b[0m\n",
            "\u001b[0;31mKeyboardInterrupt\u001b[0m: "
          ]
        }
      ]
    },
    {
      "cell_type": "code",
      "metadata": {
        "id": "REgMIIXrP1_R",
        "colab": {
          "base_uri": "https://localhost:8080/"
        },
        "outputId": "aa46a211-7575-4d23-dc31-c41c5cf41af7"
      },
      "source": [
        "featuresT, diseasesT, positionsT, controlsT, frequencesT, patientnbsT = sp.get_feature_and_labels( '../data/test/*/*/*/'  ) # both control and case\n",
        "\n",
        "indx = 2 # example on sample nb100\n",
        "print(featuresT[indx] ,diseasesT[indx] , positionsT[indx] , controlsT[indx] , frequencesT[indx] , patientnbsT[indx])"
      ],
      "execution_count": 8,
      "outputs": [
        {
          "output_type": "stream",
          "text": [
            "\n",
            "  0%|          | 0/70 [00:00<?, ?it/s]\u001b[A\n",
            "  1%|▏         | 1/70 [00:00<00:16,  4.29it/s]\u001b[A\n",
            "  3%|▎         | 2/70 [00:00<00:15,  4.27it/s]\u001b[A\n",
            "  4%|▍         | 3/70 [00:00<00:16,  3.99it/s]\u001b[A\n",
            "  6%|▌         | 4/70 [00:01<00:17,  3.71it/s]\u001b[A\n",
            "  7%|▋         | 5/70 [00:01<00:17,  3.82it/s]\u001b[A\n",
            "  9%|▊         | 6/70 [00:01<00:16,  3.82it/s]\u001b[A\n",
            " 10%|█         | 7/70 [00:01<00:18,  3.45it/s]\u001b[A\n",
            " 11%|█▏        | 8/70 [00:02<00:17,  3.55it/s]\u001b[A\n",
            " 13%|█▎        | 9/70 [00:02<00:17,  3.53it/s]\u001b[A\n",
            " 14%|█▍        | 10/70 [00:02<00:16,  3.57it/s]\u001b[A\n",
            " 16%|█▌        | 11/70 [00:03<00:18,  3.12it/s]\u001b[A\n",
            " 17%|█▋        | 12/70 [00:03<00:17,  3.36it/s]\u001b[A\n",
            " 19%|█▊        | 13/70 [00:03<00:17,  3.31it/s]\u001b[A\n",
            " 20%|██        | 14/70 [00:04<00:17,  3.25it/s]\u001b[A\n",
            " 21%|██▏       | 15/70 [00:04<00:16,  3.26it/s]\u001b[A\n",
            " 23%|██▎       | 16/70 [00:04<00:17,  3.12it/s]\u001b[A\n",
            " 24%|██▍       | 17/70 [00:05<00:26,  2.03it/s]\u001b[A\n",
            " 26%|██▌       | 18/70 [00:05<00:22,  2.29it/s]\u001b[A\n",
            " 27%|██▋       | 19/70 [00:06<00:20,  2.50it/s]\u001b[A\n",
            " 29%|██▊       | 20/70 [00:06<00:19,  2.52it/s]\u001b[A\n",
            " 30%|███       | 21/70 [00:06<00:18,  2.59it/s]\u001b[A\n",
            " 31%|███▏      | 22/70 [00:07<00:18,  2.61it/s]\u001b[A\n",
            " 33%|███▎      | 23/70 [00:07<00:20,  2.32it/s]\u001b[A\n",
            " 34%|███▍      | 24/70 [00:08<00:19,  2.36it/s]\u001b[A\n",
            " 36%|███▌      | 25/70 [00:08<00:16,  2.70it/s]\u001b[A\n",
            " 37%|███▋      | 26/70 [00:08<00:16,  2.75it/s]\u001b[A\n",
            " 39%|███▊      | 27/70 [00:09<00:17,  2.52it/s]\u001b[A\n",
            " 40%|████      | 28/70 [00:10<00:19,  2.11it/s]\u001b[A\n",
            " 41%|████▏     | 29/70 [00:10<00:19,  2.16it/s]\u001b[A\n",
            " 43%|████▎     | 30/70 [00:10<00:18,  2.16it/s]\u001b[A\n",
            " 44%|████▍     | 31/70 [00:11<00:21,  1.85it/s]\u001b[A\n",
            " 46%|████▌     | 32/70 [00:12<00:22,  1.68it/s]\u001b[A\n",
            " 47%|████▋     | 33/70 [00:13<00:23,  1.58it/s]\u001b[A\n",
            " 49%|████▊     | 34/70 [00:13<00:23,  1.52it/s]\u001b[A\n",
            " 50%|█████     | 35/70 [00:14<00:23,  1.47it/s]\u001b[A\n",
            " 51%|█████▏    | 36/70 [00:15<00:23,  1.43it/s]\u001b[A\n",
            " 53%|█████▎    | 37/70 [00:16<00:23,  1.41it/s]\u001b[A\n",
            " 54%|█████▍    | 38/70 [00:16<00:22,  1.40it/s]\u001b[A\n",
            " 56%|█████▌    | 39/70 [00:18<00:27,  1.13it/s]\u001b[A\n",
            " 57%|█████▋    | 40/70 [00:19<00:30,  1.01s/it]\u001b[A\n",
            " 59%|█████▊    | 41/70 [00:20<00:31,  1.10s/it]\u001b[A\n",
            " 60%|██████    | 42/70 [00:21<00:32,  1.16s/it]\u001b[A\n",
            " 61%|██████▏   | 43/70 [00:23<00:32,  1.20s/it]\u001b[A\n",
            " 63%|██████▎   | 44/70 [00:24<00:32,  1.24s/it]\u001b[A\n",
            " 64%|██████▍   | 45/70 [00:25<00:31,  1.26s/it]\u001b[A\n",
            " 66%|██████▌   | 46/70 [00:27<00:30,  1.27s/it]\u001b[A\n",
            " 67%|██████▋   | 47/70 [00:27<00:25,  1.10s/it]\u001b[A\n",
            " 69%|██████▊   | 48/70 [00:28<00:21,  1.01it/s]\u001b[A\n",
            " 70%|███████   | 49/70 [00:29<00:18,  1.11it/s]\u001b[A\n",
            " 71%|███████▏  | 50/70 [00:30<00:16,  1.18it/s]\u001b[A\n",
            " 73%|███████▎  | 51/70 [00:30<00:15,  1.23it/s]\u001b[A\n",
            " 74%|███████▍  | 52/70 [00:31<00:14,  1.28it/s]\u001b[A\n",
            " 76%|███████▌  | 53/70 [00:32<00:13,  1.30it/s]\u001b[A\n",
            " 77%|███████▋  | 54/70 [00:32<00:12,  1.32it/s]\u001b[A\n",
            " 79%|███████▊  | 55/70 [00:33<00:11,  1.34it/s]\u001b[A\n",
            " 80%|████████  | 56/70 [00:34<00:10,  1.35it/s]\u001b[A\n",
            " 81%|████████▏ | 57/70 [00:35<00:09,  1.35it/s]\u001b[A\n",
            " 83%|████████▎ | 58/70 [00:35<00:08,  1.36it/s]\u001b[A\n",
            " 84%|████████▍ | 59/70 [00:36<00:08,  1.37it/s]\u001b[A\n",
            " 86%|████████▌ | 60/70 [00:37<00:07,  1.37it/s]\u001b[A\n",
            " 87%|████████▋ | 61/70 [00:38<00:06,  1.37it/s]\u001b[A\n",
            " 89%|████████▊ | 62/70 [00:38<00:05,  1.37it/s]\u001b[A\n",
            " 90%|█████████ | 63/70 [00:39<00:05,  1.33it/s]\u001b[A\n",
            " 91%|█████████▏| 64/70 [00:40<00:04,  1.29it/s]\u001b[A\n",
            " 93%|█████████▎| 65/70 [00:41<00:04,  1.25it/s]\u001b[A\n",
            " 94%|█████████▍| 66/70 [00:42<00:03,  1.25it/s]\u001b[A\n",
            " 96%|█████████▌| 67/70 [00:42<00:02,  1.24it/s]\u001b[A\n",
            " 97%|█████████▋| 68/70 [00:43<00:01,  1.24it/s]\u001b[A\n",
            " 99%|█████████▊| 69/70 [00:44<00:00,  1.24it/s]\u001b[A\n",
            "100%|██████████| 70/70 [00:45<00:00,  1.55it/s]"
          ],
          "name": "stderr"
        },
        {
          "output_type": "stream",
          "text": [
            "[[ 5.9706962e-04  6.7813793e-04  7.3362316e-04 ...  1.4544959e-03\n",
            "   1.4135670e-03  1.3664027e-03]\n",
            " [ 4.5743445e-03  4.5443438e-03  4.5135305e-03 ...  6.3816099e-03\n",
            "   6.5101506e-03  6.6417879e-03]\n",
            " [ 1.0954206e-02  1.1060468e-02  1.1153707e-02 ... -2.0139068e-04\n",
            "  -1.3030520e-04 -6.7431603e-05]\n",
            " [-1.6394678e-03 -1.6848879e-03 -1.7421885e-03 ... -2.8045769e-03\n",
            "  -2.7617300e-03 -2.7151031e-03]] Pn P3 Ca 22050 30\n"
          ],
          "name": "stdout"
        },
        {
          "output_type": "stream",
          "text": [
            "\n"
          ],
          "name": "stderr"
        }
      ]
    },
    {
      "cell_type": "code",
      "metadata": {
        "id": "9u0RLb5OrSkg"
      },
      "source": [
        "import keras\n",
        "from keras.models import Sequential\n",
        "from keras.layers import Dense, Convolution2D, Flatten, MaxPooling2D, ZeroPadding2D, Dropout, BatchNormalization, Activation\n",
        "from keras import optimizers\n",
        "from keras.utils import to_categorical\n",
        "from keras.preprocessing.image import ImageDataGenerator\n",
        "from keras.models import load_model\n",
        "from keras.callbacks import ModelCheckpoint, CSVLogger, RemoteMonitor, TensorBoard, ReduceLROnPlateau\n",
        "from tensorboardcolab import TensorBoardColab, TensorBoardColabCallback"
      ],
      "execution_count": 9,
      "outputs": []
    },
    {
      "cell_type": "code",
      "metadata": {
        "id": "Jlcj7XT5sm6u"
      },
      "source": [
        "import keras.backend as K\n",
        "def f1(y_true, y_pred): #taken from old keras source code\n",
        "    true_positives = K.sum(K.round(K.clip(y_true * y_pred, 0, 1)))\n",
        "    possible_positives = K.sum(K.round(K.clip(y_true, 0, 1)))\n",
        "    predicted_positives = K.sum(K.round(K.clip(y_pred, 0, 1)))\n",
        "    precision = true_positives / (predicted_positives + K.epsilon())\n",
        "    recall = true_positives / (possible_positives + K.epsilon())\n",
        "    f1_val = 2*(precision*recall)/(precision+recall+K.epsilon())\n",
        "    return f1_val"
      ],
      "execution_count": 10,
      "outputs": []
    },
    {
      "cell_type": "code",
      "metadata": {
        "id": "eTkuavWDsQvJ"
      },
      "source": [
        "#position = 'P5'\n",
        "#indx = positions == position\n",
        "\n",
        "indx = np.arange(positions.shape[0])\n",
        "\n",
        "y_train = (controls[indx] == 'Ca')\n",
        "x_train = features[indx]\n",
        "\n",
        "y_train_big = []\n",
        "x_train_big = []\n",
        "train_patientnb_big = []\n",
        "\n",
        "for i, j, p in zip(x_train, y_train, patientnbs):\n",
        "  for subsample in i:\n",
        "    y_train_big.append(j )\n",
        "    x_train_big.append(subsample )\n",
        "    train_patientnb_big.append(p)\n",
        "\n",
        "y_train = np.array(y_train_big)\n",
        "x_train = np.array(x_train_big)\n",
        "train_patientnb_big = np.array(train_patientnb_big)\n",
        "\n",
        "print(y_train.shape ,x_train.shape ,train_patientnb_big.shape)"
      ],
      "execution_count": null,
      "outputs": []
    },
    {
      "cell_type": "code",
      "metadata": {
        "colab": {
          "base_uri": "https://localhost:8080/"
        },
        "id": "ncZ0_LvPwZS5",
        "outputId": "0d26da44-bee9-4886-beaa-e8635edbf9ba"
      },
      "source": [
        "\n",
        "#indx = positions == position\n",
        "indx = np.arange(positionsT.shape[0])\n",
        "\n",
        "y_test = (controlsT[indx] == 'Ca')\n",
        "x_test = featuresT[indx]\n",
        "\n",
        "\n",
        "y_test_big = []\n",
        "x_test_big = []\n",
        "test_patientnb_big = []\n",
        "test_position_big = []\n",
        "\n",
        "for i, j , p ,pos in zip(x_test, y_test, patientnbsT, positionsT ):\n",
        "  for subsample in i:\n",
        "    y_test_big.append(j )\n",
        "    x_test_big.append(subsample )\n",
        "    test_patientnb_big.append(p)\n",
        "    test_position_big.append(pos)\n",
        "\n",
        "y_test = np.array(y_test_big)\n",
        "x_test = np.array(x_test_big)\n",
        "test_patientnb_big = np.array(test_patientnb_big)\n",
        "test_position_big = np.array(test_position_big)\n",
        "\n",
        "print(y_test.shape ,x_test.shape , test_patientnb_big.shape)\n"
      ],
      "execution_count": 35,
      "outputs": [
        {
          "output_type": "stream",
          "text": [
            "(1256,) (1256, 110250) (1256,)\n"
          ],
          "name": "stdout"
        }
      ]
    },
    {
      "cell_type": "code",
      "metadata": {
        "colab": {
          "base_uri": "https://localhost:8080/"
        },
        "id": "tNYJwPxHw3qo",
        "outputId": "260289ac-fb40-4eff-a83f-9c1d91fb262a"
      },
      "source": [
        "x_train_final = []\n",
        "x_test_final = []\n",
        "\n",
        "#for sample in x_train:\n",
        "#  x_train_final.append(sp.features_extraction(sample,22050,'stft'))\n",
        "\n",
        "for sample in x_test:\n",
        "  x_test_final.append(sp.features_extraction(sample,22050,'stft'))  \n",
        "\n",
        "#x_train_final = np.array(x_train_final)[:,:,:,np.newaxis]\n",
        "x_test_final = np.array(x_test_final)[:,:,:,np.newaxis]\n",
        "\n",
        "print(x_test_final.shape)\n",
        "#print(y_train.shape)"
      ],
      "execution_count": 36,
      "outputs": [
        {
          "output_type": "stream",
          "text": [
            "(1256, 150, 216, 1)\n"
          ],
          "name": "stdout"
        }
      ]
    },
    {
      "cell_type": "code",
      "metadata": {
        "colab": {
          "base_uri": "https://localhost:8080/"
        },
        "id": "XumWmzY0yBoY",
        "outputId": "5e845c94-d8db-4e58-8546-5adcfbb0a264"
      },
      "source": [
        "#copy\n",
        "\n",
        "#XTr = x_train_final.copy()\n",
        "XTe = x_test_final.copy()\n",
        "#YTr = y_train.astype(int).copy()\n",
        "YTe = y_test.astype(int).copy()\n",
        "\n",
        "print(XTe.shape)\n",
        "print(YTe.shape)\n"
      ],
      "execution_count": 37,
      "outputs": [
        {
          "output_type": "stream",
          "text": [
            "(1256, 150, 216, 1)\n",
            "(1256,)\n"
          ],
          "name": "stdout"
        }
      ]
    },
    {
      "cell_type": "code",
      "metadata": {
        "id": "_SpAlGTNsFqI"
      },
      "source": [
        "#y_train = to_categorical(YTr)\n",
        "y_test = to_categorical(YTe)\n",
        "\n",
        "#print(y_train,y_train.shape)"
      ],
      "execution_count": 38,
      "outputs": []
    },
    {
      "cell_type": "code",
      "metadata": {
        "id": "XwfbAOZ41zCd"
      },
      "source": [
        "shuffle_indices = np.random.permutation(np.arange(y_train.shape[0]))\n",
        "y_train = y_train[shuffle_indices]  # rearranges the y_train based on the shuffled indices\n",
        "XTr = XTr[shuffle_indices]  # rearranges the x_train based on the shuffled indices\n",
        "train_patientnb_big = train_patientnb_big[shuffle_indices]"
      ],
      "execution_count": null,
      "outputs": []
    },
    {
      "cell_type": "code",
      "metadata": {
        "id": "UNcQ0gXe2ewb"
      },
      "source": [
        "print(y_train)"
      ],
      "execution_count": null,
      "outputs": []
    },
    {
      "cell_type": "code",
      "metadata": {
        "id": "2VPdk5WzsacO"
      },
      "source": [
        "shape = XTe.shape[1:]\n",
        "train_batch_size = 32\n",
        "#train_steps = XTr.shape[0]//train_batch_size # need to specify the number of steps since the data generator outputs continuously\n",
        "\n",
        "\n",
        "x_test = XTe.astype('float32') # not sure why I do this but let's keep it for now\n",
        "#x_train = XTr.astype('float32')\n",
        "\n",
        "train_generator = ImageDataGenerator(width_shift_range=20,\n",
        "                            #height_shift_range=4,\n",
        "                            #zoom_range=[1/1.3, 1.3],\n",
        "                            \n",
        "                            )\n",
        "\n",
        "\n",
        "train_generator.fit(x_test) #apply the augmetnation to train data\n",
        "\n",
        "train_datagen = train_generator.flow(x_test, y_test, batch_size=train_batch_size) # creates the mii batch flow\n",
        "\n"
      ],
      "execution_count": 39,
      "outputs": []
    },
    {
      "cell_type": "code",
      "metadata": {
        "id": "y6ZBB7StsbLh",
        "colab": {
          "base_uri": "https://localhost:8080/",
          "height": 70
        },
        "outputId": "4a49ba7d-56b2-4e03-ba18-bf7c13cfdd1e"
      },
      "source": [
        "model = Sequential()\n",
        "\n",
        "model.add(Convolution2D(20, (3, 3), activation='relu', padding='same', input_shape=shape))\n",
        "model.add(BatchNormalization())\n",
        "model.add(MaxPooling2D(2, 2))\n",
        "model.add(Dropout(0.25))\n",
        "\n",
        "model.add(Convolution2D(50, (3, 3), activation='relu', padding='same', input_shape=shape))\n",
        "model.add(BatchNormalization())\n",
        "model.add(MaxPooling2D(2, 2))\n",
        "model.add(Dropout(0.25))\n",
        "\n",
        "model.add(Flatten())\n",
        "dense1_unit = 25\n",
        "model.add(Dense(dense1_unit, activation='relu'))\n",
        "model.add(BatchNormalization())\n",
        "model.add(Dropout(0.5))\n",
        "\n",
        "model.add(Dense(2, activation='softmax'))\n",
        "\n",
        "sgd = optimizers.SGD(lr=0.00004, decay=1e-6, momentum=0.9, nesterov=True)\n",
        "model.compile(optimizer=sgd, loss='binary_crossentropy', metrics=['accuracy',f1])\n",
        "#model.compile(optimizer=sgd, loss=keras.losses.SparseCategoricalCrossentropy(), metrics=[keras.metrics.SparseCategoricalAccuracy()])\n",
        "\n",
        "#Callbacks\n",
        "\n",
        "'''\n",
        "checkpointer = ModelCheckpoint(monitor='val_accuracy', # automatically saves the model \n",
        "                               mode='auto', \n",
        "                               filepath='../XXX'+position+'_D'+str(dense1_unit)+'.h5',\n",
        "                               verbose=1,\n",
        "                               save_best_only=True,\n",
        "                               save_freq = 'epoch'\n",
        "                              )\n",
        "                            '''\n",
        "\n",
        "csv_logger = CSVLogger('../test_model.txt') # saves the output log in csv\n",
        "\n",
        "\n",
        "#lr = ReduceLROnPlateau(monitor='val_loss', factor=0.1, # can be used to reduce the learning rate once the model stops learning\n",
        "                       #min_delta=0.001, cooldown=1,\n",
        "                       #verbose=1, patience=10,\n",
        "                       # min_lr=4.0e-5)\n",
        "\n",
        "#FitTheModel\n",
        "'''\n",
        "history = model.fit_generator(train_datagen,\n",
        "                              steps_per_epoch=train_steps,\n",
        "                              epochs=50,\n",
        "                              validation_data=(x_test, y_test),\n",
        "                              #callbacks= [checkpointer]\n",
        "                              )'''\n",
        "                              \n",
        "                              "
      ],
      "execution_count": 40,
      "outputs": [
        {
          "output_type": "execute_result",
          "data": {
            "application/vnd.google.colaboratory.intrinsic+json": {
              "type": "string"
            },
            "text/plain": [
              "'\\nhistory = model.fit_generator(train_datagen,\\n                              steps_per_epoch=train_steps,\\n                              epochs=50,\\n                              validation_data=(x_test, y_test),\\n                              #callbacks= [checkpointer]\\n                              )'"
            ]
          },
          "metadata": {
            "tags": []
          },
          "execution_count": 40
        }
      ]
    },
    {
      "cell_type": "code",
      "metadata": {
        "colab": {
          "base_uri": "https://localhost:8080/",
          "height": 295
        },
        "id": "ZXaeiD0wMMHs",
        "outputId": "026a4ce7-0bad-40c4-c503-61d237f0703d"
      },
      "source": [
        "plt.plot(history.history['accuracy'])\n",
        "plt.plot(history.history['val_accuracy'])\n",
        "plt.plot(history.history['loss'])\n",
        "plt.plot(history.history['val_loss'])\n",
        "plt.title(position+' model accuracy / loss')\n",
        "plt.ylabel('accuracy / loss')\n",
        "plt.xlabel('epoch')\n",
        "plt.legend(['train_acc', 'test_acc','train_loss','test_loss'], loc='lower left')\n",
        "plt.ylim(ymax = 1, ymin = 0)\n",
        "plt.show()\n"
      ],
      "execution_count": null,
      "outputs": [
        {
          "output_type": "display_data",
          "data": {
            "image/png": "[encoded data removed]",
            "text/plain": [
              "<Figure size 432x288 with 1 Axes>"
            ]
          },
          "metadata": {
            "tags": [],
            "needs_background": "light"
          }
        }
      ]
    },
    {
      "cell_type": "code",
      "metadata": {
        "colab": {
          "base_uri": "https://localhost:8080/"
        },
        "id": "9udtcbLKTzWs",
        "outputId": "900db223-28fc-4877-f245-4fc9eec0546f"
      },
      "source": [
        "!ls ../"
      ],
      "execution_count": null,
      "outputs": [
        {
          "output_type": "stream",
          "text": [
            "data  P1_D25.h5  P2_D25.h5  P3_D25.h5  P8_D25.h5  README.md  src  test_model.h5\n"
          ],
          "name": "stdout"
        }
      ]
    },
    {
      "cell_type": "code",
      "metadata": {
        "id": "7g5agV4Ip7nA"
      },
      "source": [
        ""
      ],
      "execution_count": null,
      "outputs": []
    },
    {
      "cell_type": "code",
      "metadata": {
        "id": "5861l1Fdunjm"
      },
      "source": [
        "print(x_test.shape, y_test.shape)"
      ],
      "execution_count": null,
      "outputs": []
    },
    {
      "cell_type": "code",
      "metadata": {
        "id": "8WMruzh-MdLq"
      },
      "source": [
        ""
      ],
      "execution_count": null,
      "outputs": []
    },
    {
      "cell_type": "code",
      "metadata": {
        "id": "bi0r72abfsHi",
        "colab": {
          "base_uri": "https://localhost:8080/"
        },
        "outputId": "90ab694e-64dc-41df-bbe3-15ffecf44411"
      },
      "source": [
        "model.load_weights('../P1_D25.h5')\n",
        "\n",
        "print(model.evaluate(x_test, y_test))\n",
        "print(model.evaluate(x_train, y_train))"
      ],
      "execution_count": null,
      "outputs": [
        {
          "output_type": "stream",
          "text": [
            "5/5 [==============================] - 0s 8ms/step - loss: 0.3566 - accuracy: 0.8782 - f1: 0.8813\n",
            "[0.35656261444091797, 0.8782051205635071, 0.8812500238418579]\n",
            "23/23 [==============================] - 0s 10ms/step - loss: 0.3562 - accuracy: 0.8390 - f1: 0.8390\n",
            "[0.35621216893196106, 0.8390177488327026, 0.8389710187911987]\n"
          ],
          "name": "stdout"
        }
      ]
    },
    {
      "cell_type": "code",
      "metadata": {
        "colab": {
          "base_uri": "https://localhost:8080/"
        },
        "id": "fPu-DGJkwW9i",
        "outputId": "59c8a491-f61a-4082-dc0f-fb1620abed46"
      },
      "source": [
        "model.load_weights('../P2_D25.h5')\n",
        "\n",
        "print(model.evaluate(x_test, y_test))\n",
        "print(model.evaluate(x_train, y_train))"
      ],
      "execution_count": null,
      "outputs": [
        {
          "output_type": "stream",
          "text": [
            "6/6 [==============================] - 0s 8ms/step - loss: 0.4654 - accuracy: 0.8793 - f1: 0.8906\n",
            "[0.4653988182544708, 0.8793103694915771, 0.890625]\n",
            "25/25 [==============================] - 0s 10ms/step - loss: 0.3530 - accuracy: 0.8440 - f1: 0.8500\n",
            "[0.3529934883117676, 0.8439531922340393, 0.8499999046325684]\n"
          ],
          "name": "stdout"
        }
      ]
    },
    {
      "cell_type": "code",
      "metadata": {
        "colab": {
          "base_uri": "https://localhost:8080/"
        },
        "id": "y2B7EUtowYTM",
        "outputId": "d080f6e9-4b2f-402b-f60e-eadbca410866"
      },
      "source": [
        "model.load_weights('../P3_D25.h5')\n",
        "\n",
        "print(model.evaluate(x_test, y_test))\n",
        "print(model.evaluate(x_train, y_train))"
      ],
      "execution_count": null,
      "outputs": [
        {
          "output_type": "stream",
          "text": [
            "5/5 [==============================] - 0s 8ms/step - loss: 0.4525 - accuracy: 0.8630 - f1: 0.8750\n",
            "[0.4524646997451782, 0.8630136847496033, 0.875]\n",
            "23/23 [==============================] - 0s 10ms/step - loss: 0.3886 - accuracy: 0.8249 - f1: 0.8125\n",
            "[0.388602077960968, 0.8248587846755981, 0.8124999403953552]\n"
          ],
          "name": "stdout"
        }
      ]
    },
    {
      "cell_type": "code",
      "metadata": {
        "colab": {
          "base_uri": "https://localhost:8080/"
        },
        "id": "rgLpKxQnwZ5R",
        "outputId": "d69cbadb-841f-42cf-f18c-38d6f211ce52"
      },
      "source": [
        "model.load_weights('../P4_D25.h5')\n",
        "\n",
        "print(model.evaluate(x_test, y_test))\n",
        "print(model.evaluate(x_train, y_train))"
      ],
      "execution_count": null,
      "outputs": [
        {
          "output_type": "stream",
          "text": [
            "5/5 [==============================] - 0s 8ms/step - loss: 0.6246 - accuracy: 0.8618 - f1: 0.8687\n",
            "[0.6245535016059875, 0.8618420958518982, 0.8687499761581421]\n",
            "24/24 [==============================] - 0s 10ms/step - loss: 0.3446 - accuracy: 0.8360 - f1: 0.8370\n",
            "[0.34460458159446716, 0.8359788656234741, 0.83697909116745]\n"
          ],
          "name": "stdout"
        }
      ]
    },
    {
      "cell_type": "code",
      "metadata": {
        "colab": {
          "base_uri": "https://localhost:8080/"
        },
        "id": "yaWOf_ZPwbfs",
        "outputId": "d36b6f51-1d32-46de-961a-72fc057c1cba"
      },
      "source": [
        "model.load_weights('../P5_D25.h5')\n",
        "\n",
        "print(model.evaluate(x_test, y_test))\n",
        "print(model.evaluate(x_train, y_train))"
      ],
      "execution_count": null,
      "outputs": [
        {
          "output_type": "stream",
          "text": [
            "5/5 [==============================] - 0s 9ms/step - loss: 0.5127 - accuracy: 0.8671 - f1: 0.8687\n",
            "[0.5127297043800354, 0.8670886158943176, 0.8687499761581421]\n",
            "22/22 [==============================] - 0s 11ms/step - loss: 0.3270 - accuracy: 0.8292 - f1: 0.8317\n",
            "[0.32703477144241333, 0.829197108745575, 0.8317306637763977]\n"
          ],
          "name": "stdout"
        }
      ]
    },
    {
      "cell_type": "code",
      "metadata": {
        "colab": {
          "base_uri": "https://localhost:8080/"
        },
        "id": "JHeQ8_f0wc9P",
        "outputId": "2522f574-0e1c-4495-c7e3-de15d483b193"
      },
      "source": [
        "model.load_weights('../P6_D25.h5')\n",
        "\n",
        "print(model.evaluate(x_test, y_test))\n",
        "print(model.evaluate(x_train, y_train))"
      ],
      "execution_count": null,
      "outputs": [
        {
          "output_type": "stream",
          "text": [
            "6/6 [==============================] - 0s 8ms/step - loss: 0.4505 - accuracy: 0.8466 - f1: 0.7691\n",
            "[0.45051729679107666, 0.8466257452964783, 0.7690972685813904]\n",
            "21/21 [==============================] - 0s 10ms/step - loss: 0.3554 - accuracy: 0.8418 - f1: 0.8419\n",
            "[0.35542550683021545, 0.841791033744812, 0.8418650031089783]\n"
          ],
          "name": "stdout"
        }
      ]
    },
    {
      "cell_type": "code",
      "metadata": {
        "colab": {
          "base_uri": "https://localhost:8080/"
        },
        "id": "7gEhCBZSwego",
        "outputId": "ff30d92e-1d5a-4a96-f98d-c9e6b7bc3cae"
      },
      "source": [
        "model.load_weights('../P7_D25.h5')\n",
        "\n",
        "print(model.evaluate(x_test, y_test))\n",
        "print(model.evaluate(x_train, y_train))"
      ],
      "execution_count": null,
      "outputs": [
        {
          "output_type": "stream",
          "text": [
            "5/5 [==============================] - 0s 8ms/step - loss: 0.1254 - accuracy: 0.9740 - f1: 0.9692\n",
            "[0.12539531290531158, 0.9740259647369385, 0.9692307710647583]\n",
            "24/24 [==============================] - 0s 10ms/step - loss: 0.1629 - accuracy: 0.9367 - f1: 0.9351\n",
            "[0.16294337809085846, 0.936675488948822, 0.9351325631141663]\n"
          ],
          "name": "stdout"
        }
      ]
    },
    {
      "cell_type": "code",
      "metadata": {
        "colab": {
          "base_uri": "https://localhost:8080/"
        },
        "id": "1dPqiVebwgKN",
        "outputId": "69879c3a-c5e7-4621-911b-f576549c7a5d"
      },
      "source": [
        "model.load_weights('../P8_D25.h5')\n",
        "\n",
        "print(model.evaluate(x_test, y_test))\n",
        "print(model.evaluate(x_train, y_train))"
      ],
      "execution_count": null,
      "outputs": [
        {
          "output_type": "stream",
          "text": [
            "5/5 [==============================] - 0s 9ms/step - loss: 0.1846 - accuracy: 0.9935 - f1: 0.9937\n",
            "[0.1845911741256714, 0.9934640526771545, 0.9937499761581421]\n",
            "26/26 [==============================] - 0s 10ms/step - loss: 0.3284 - accuracy: 0.8712 - f1: 0.8697\n",
            "[0.3283524811267853, 0.8711656332015991, 0.8697114586830139]\n"
          ],
          "name": "stdout"
        }
      ]
    },
    {
      "cell_type": "code",
      "metadata": {
        "id": "2q54P_O4wiig",
        "colab": {
          "base_uri": "https://localhost:8080/",
          "height": 105
        },
        "outputId": "a3ca9350-20ac-4b9a-c849-8af597f9cf8d"
      },
      "source": [
        "stat = [[0.35656261444091797, 0.8782051205635071, 0.8812500238418579],\n",
        "        [0.4653988182544708, 0.8793103694915771, 0.890625],\n",
        "        [0.4524646997451782, 0.8630136847496033, 0.875],\n",
        "        [0.6245535016059875, 0.8618420958518982, 0.8687499761581421],\n",
        "        [0.5127297043800354, 0.8670886158943176, 0.8687499761581421],\n",
        "        [0.45051729679107666, 0.8466257452964783, 0.7690972685813904],\n",
        "        [0.12539531290531158, 0.9740259647369385, 0.9692307710647583],\n",
        "        [0.1845911741256714, 0.9934640526771545, 0.9937499761581421]]\n",
        "stat = np.array(stat)\n",
        "'''\n",
        "stat = [[0.5312677621841431, 0.7380573153495789, 0.7406250238418579],\n",
        "        [0.551033616065979, 0.7969745397567749, 0.80078125],\n",
        "        [0.4868663251399994, 0.8208598494529724, 0.819531261920929],\n",
        "        [0.48064538836479187, 0.8272293210029602, 0.828125],\n",
        "        [0.6950857043266296, 0.7929936051368713, 0.796875],\n",
        "        [0.5611410140991211, 0.831210196018219, 0.8343750238418579],\n",
        "        [0.8402006030082703, 0.6966560482978821, 0.699999988079071],\n",
        "        [0.3759962320327759, 0.8503184914588928, 0.8531249761581421]]\n",
        "stat = np.array(stat)'''"
      ],
      "execution_count": 95,
      "outputs": [
        {
          "output_type": "execute_result",
          "data": {
            "application/vnd.google.colaboratory.intrinsic+json": {
              "type": "string"
            },
            "text/plain": [
              "'\\nstat = [[0.5312677621841431, 0.7380573153495789, 0.7406250238418579],\\n        [0.551033616065979, 0.7969745397567749, 0.80078125],\\n        [0.4868663251399994, 0.8208598494529724, 0.819531261920929],\\n        [0.48064538836479187, 0.8272293210029602, 0.828125],\\n        [0.6950857043266296, 0.7929936051368713, 0.796875],\\n        [0.5611410140991211, 0.831210196018219, 0.8343750238418579],\\n        [0.8402006030082703, 0.6966560482978821, 0.699999988079071],\\n        [0.3759962320327759, 0.8503184914588928, 0.8531249761581421]]\\nstat = np.array(stat)'"
            ]
          },
          "metadata": {
            "tags": []
          },
          "execution_count": 95
        }
      ]
    },
    {
      "cell_type": "code",
      "metadata": {
        "colab": {
          "base_uri": "https://localhost:8080/",
          "height": 295
        },
        "id": "1eoxWkDZGAYp",
        "outputId": "02c6b1c6-d6b2-4c1b-e38b-8afcf7949875"
      },
      "source": [
        "for i in np.arange(stat.shape[0]):\n",
        "  plt.bar(i+1 + -0.25, stat[i][0], color = 'r', width = 0.25)\n",
        "  plt.bar(i+1 + 0., stat[i][1], color = 'b', width = 0.25)\n",
        "  plt.bar(i+1 + 0.25, stat[i][2], color = 'gold', width = 0.25)\n",
        "\n",
        "plt.title('Position loss-acc-f1 Specific Pose DATASET')\n",
        "plt.legend(['test_loss', 'test_acc','test_f1'], loc='lower left')\n",
        "plt.xlabel('position number')\n",
        "plt.show()"
      ],
      "execution_count": 96,
      "outputs": [
        {
          "output_type": "display_data",
          "data": {
            "image/png": "[encoded data removed]",
            "text/plain": [
              "<Figure size 432x288 with 1 Axes>"
            ]
          },
          "metadata": {
            "tags": [],
            "needs_background": "light"
          }
        }
      ]
    },
    {
      "cell_type": "code",
      "metadata": {
        "id": "4IMXpP5PG0Yk"
      },
      "source": [
        "from keras.utils.vis_utils import plot_model\n",
        "\n",
        "plot_model(model, to_file='model_plot.png', show_shapes=True, show_layer_names=True)"
      ],
      "execution_count": null,
      "outputs": []
    },
    {
      "cell_type": "code",
      "metadata": {
        "id": "3JoB7TFRPIxO"
      },
      "source": [
        ""
      ],
      "execution_count": null,
      "outputs": []
    },
    {
      "cell_type": "code",
      "metadata": {
        "colab": {
          "base_uri": "https://localhost:8080/"
        },
        "id": "lx8kQ6Slz61B",
        "outputId": "0b1b3795-77d5-41ce-ce0e-b35d294cf8e3"
      },
      "source": [
        "for pos in range(8):\n",
        "  model.load_weights('../P'+str(pos+1)+'_D25.h5')\n",
        "  print('Pos'+str(pos+1),model.evaluate(x_test, y_test))"
      ],
      "execution_count": 41,
      "outputs": [
        {
          "output_type": "stream",
          "text": [
            "40/40 [==============================] - 1s 13ms/step - loss: 0.5313 - accuracy: 0.7381 - f1: 0.7406\n",
            "Pos1 [0.5312677621841431, 0.7380573153495789, 0.7406250238418579]\n",
            "40/40 [==============================] - 1s 13ms/step - loss: 0.5510 - accuracy: 0.7970 - f1: 0.8008\n",
            "Pos2 [0.551033616065979, 0.7969745397567749, 0.80078125]\n",
            "40/40 [==============================] - 1s 13ms/step - loss: 0.4869 - accuracy: 0.8209 - f1: 0.8195\n",
            "Pos3 [0.4868663251399994, 0.8208598494529724, 0.819531261920929]\n",
            "40/40 [==============================] - 1s 13ms/step - loss: 0.4806 - accuracy: 0.8272 - f1: 0.8281\n",
            "Pos4 [0.48064538836479187, 0.8272293210029602, 0.828125]\n",
            "40/40 [==============================] - 1s 13ms/step - loss: 0.6951 - accuracy: 0.7930 - f1: 0.7969\n",
            "Pos5 [0.6950857043266296, 0.7929936051368713, 0.796875]\n",
            "40/40 [==============================] - 1s 13ms/step - loss: 0.5611 - accuracy: 0.8312 - f1: 0.8344\n",
            "Pos6 [0.5611410140991211, 0.831210196018219, 0.8343750238418579]\n",
            "40/40 [==============================] - 1s 13ms/step - loss: 0.8402 - accuracy: 0.6967 - f1: 0.7000\n",
            "Pos7 [0.8402006030082703, 0.6966560482978821, 0.699999988079071]\n",
            "40/40 [==============================] - 1s 13ms/step - loss: 0.3760 - accuracy: 0.8503 - f1: 0.8531\n",
            "Pos8 [0.3759962320327759, 0.8503184914588928, 0.8531249761581421]\n"
          ],
          "name": "stdout"
        }
      ]
    },
    {
      "cell_type": "code",
      "metadata": {
        "colab": {
          "base_uri": "https://localhost:8080/"
        },
        "id": "dC8hHXZgz7A8",
        "outputId": "d91f1fbc-175c-4452-d389-bbe451e0d8a8"
      },
      "source": [
        "x_test_ = x_test.copy()\n",
        "y_test_ = y_test.copy()\n",
        "p_test_ = test_patientnb_big.copy()\n",
        "pos_test_ = test_position_big.copy()\n",
        "\n",
        "print(x_test_.shape,y_test_.shape,p_test_.shape,pos_test_.shape)\n"
      ],
      "execution_count": 42,
      "outputs": [
        {
          "output_type": "stream",
          "text": [
            "(1256, 150, 216, 1) (1256, 2) (1256,) (1256,)\n"
          ],
          "name": "stdout"
        }
      ]
    },
    {
      "cell_type": "code",
      "metadata": {
        "colab": {
          "base_uri": "https://localhost:8080/"
        },
        "id": "26GKFxr62LMf",
        "outputId": "7e2daab6-c7b4-4141-ec3a-89183a9cc5d3"
      },
      "source": [
        "print(np.unique(patientnbsT))\n",
        "unique_patient = np.unique(p_test_)"
      ],
      "execution_count": 47,
      "outputs": [
        {
          "output_type": "stream",
          "text": [
            "['12' '14' '18' '30' '40' '43' '46' '65' '7']\n"
          ],
          "name": "stdout"
        }
      ]
    },
    {
      "cell_type": "code",
      "metadata": {
        "colab": {
          "base_uri": "https://localhost:8080/"
        },
        "id": "H3dwuTrG3KW8",
        "outputId": "fc68aa4a-0132-4195-bd39-7a4422512b62"
      },
      "source": [
        "x_test_7 = x_test_[pos_test_ == 'P7']\n",
        "y_test_7 = y_test_[pos_test_ == 'P7']\n",
        "\n",
        "model.load_weights('../P7_D25.h5')\n",
        "print('Pos7',model.evaluate(x_test_7, y_test_7))"
      ],
      "execution_count": 44,
      "outputs": [
        {
          "output_type": "stream",
          "text": [
            "5/5 [==============================] - 0s 24ms/step - loss: 0.1254 - accuracy: 0.9740 - f1: 0.9692\n",
            "Pos7 [0.1253952980041504, 0.9740259647369385, 0.9692307710647583]\n"
          ],
          "name": "stdout"
        }
      ]
    },
    {
      "cell_type": "code",
      "metadata": {
        "colab": {
          "base_uri": "https://localhost:8080/"
        },
        "id": "ynp9zyMQ7_KC",
        "outputId": "8773b590-5ad1-466d-f74c-9254259ce501"
      },
      "source": [
        "position_weights = [1,1,1,1,1,1,5,5]\n",
        "\n",
        "y_pred_patient = []\n",
        "y_expc_patient = []\n",
        "\n",
        "for patient in unique_patient:\n",
        "  x_test_patient = x_test_[p_test_ == patient]\n",
        "  y_test_patient = y_test_[p_test_ == patient][0] # all the same\n",
        "  pos_test_patient = pos_test_[p_test_ == patient]\n",
        "\n",
        "  pred_patient = []\n",
        "  for pos in np.unique(pos_test_patient):\n",
        "    model.load_weights('../'+str(pos)+'_D25.h5')\n",
        "    pred = model.predict(x_test_patient[pos_test_patient == pos])\n",
        "    for i in range(position_weights[int(pos[1])-1]):\n",
        "      pred_patient.append(np.mean(pred,axis=0))\n",
        "    \n",
        "  y_pred_patient.append(np.mean(pred_patient,axis=0))\n",
        "  y_expc_patient.append(y_test_patient)\n",
        "  print('patient',patient ,' predicted:', np.mean(pred_patient,axis=0) , 'expected:' , y_test_patient)\n",
        "\n",
        "y_pred_patient = np.array(y_pred_patient)\n",
        "y_expc_patient = np.array(y_expc_patient)\n"
      ],
      "execution_count": 102,
      "outputs": [
        {
          "output_type": "stream",
          "text": [
            "patient 12  predicted: [0.87132585 0.128674  ] expected: [1. 0.]\n",
            "patient 14  predicted: [0.8376091  0.16239083] expected: [1. 0.]\n",
            "patient 18  predicted: [0.927456   0.07254402] expected: [1. 0.]\n",
            "patient 30  predicted: [0.1218483  0.87815154] expected: [0. 1.]\n",
            "patient 40  predicted: [0.0402527 0.9597473] expected: [0. 1.]\n",
            "patient 43  predicted: [0.01850494 0.9814951 ] expected: [0. 1.]\n",
            "patient 46  predicted: [0.01710532 0.9828947 ] expected: [0. 1.]\n",
            "patient 65  predicted: [0.4448742  0.55512583] expected: [0. 1.]\n",
            "patient 7  predicted: [0.76703644 0.23296352] expected: [1. 0.]\n"
          ],
          "name": "stdout"
        }
      ]
    },
    {
      "cell_type": "code",
      "metadata": {
        "colab": {
          "base_uri": "https://localhost:8080/"
        },
        "id": "EJiAStPC8pIc",
        "outputId": "8bbaaf86-5d70-4318-e004-426abff36b68"
      },
      "source": [
        "print('f1:', f1(y_expc_patient , y_pred_patient ) )"
      ],
      "execution_count": 103,
      "outputs": [
        {
          "output_type": "stream",
          "text": [
            "f1: tf.Tensor(1.0, shape=(), dtype=float32)\n"
          ],
          "name": "stdout"
        }
      ]
    },
    {
      "cell_type": "code",
      "metadata": {
        "id": "LIgTLwkVEILp"
      },
      "source": [
        ""
      ],
      "execution_count": null,
      "outputs": []
    }
  ]
}